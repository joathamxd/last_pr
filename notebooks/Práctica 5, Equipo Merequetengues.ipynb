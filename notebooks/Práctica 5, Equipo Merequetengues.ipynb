{
 "cells": [
  {
   "cell_type": "code",
   "execution_count": 28,
   "metadata": {
    "ExecuteTime": {
     "end_time": "2021-06-06T17:21:54.890020Z",
     "start_time": "2021-06-06T17:21:54.885072Z"
    }
   },
   "outputs": [],
   "source": [
    "from sklearn.model_selection import cross_val_score, train_test_split, GridSearchCV, RandomizedSearchCV\n",
    "from sklearn.feature_extraction.text import CountVectorizer, TfidfVectorizer\n",
    "from sklearn.linear_model import LinearRegression, Lars, ElasticNet, Lasso, Ridge, BayesianRidge\n",
    "from sklearn.preprocessing import MinMaxScaler\n",
    "from sklearn.linear_model import Ridge\n",
    "import cufflinks as cf\n",
    "import pandas as pd\n",
    "import numpy as np\n",
    "import emoji\n",
    "import re\n",
    "from wordcloud import WordCloud, STOPWORDS\n",
    "import nltk\n",
    "import matplotlib.pyplot as plt\n",
    "import matplotlib\n",
    "import emoji\n",
    "import re\n",
    "import re, unicodedata\n",
    "from pandas import DataFrame\n",
    "from nltk.corpus import stopwords\n",
    "from sklearn.linear_model import LogisticRegression\n",
    "from pickle import dump, load"
   ]
  },
  {
   "cell_type": "code",
   "execution_count": 2,
   "metadata": {
    "ExecuteTime": {
     "end_time": "2021-06-06T17:04:01.978622Z",
     "start_time": "2021-06-06T17:04:01.146332Z"
    }
   },
   "outputs": [],
   "source": [
    "data= pd.read_csv('/home/bluestrk/Documentos/data_science/module_five/last_pr/betsentiment-ES-tweets-sentiment-teams.csv', encoding='latin1')"
   ]
  },
  {
   "cell_type": "code",
   "execution_count": 3,
   "metadata": {
    "ExecuteTime": {
     "end_time": "2021-06-06T17:04:02.003696Z",
     "start_time": "2021-06-06T17:04:01.979887Z"
    }
   },
   "outputs": [],
   "source": [
    "data.drop(['tweet_date_created','language', 'tweet_id', 'sentiment_score'], axis=1, inplace=True)"
   ]
  },
  {
   "cell_type": "code",
   "execution_count": 4,
   "metadata": {
    "ExecuteTime": {
     "end_time": "2021-06-06T17:04:02.016997Z",
     "start_time": "2021-06-06T17:04:02.004830Z"
    }
   },
   "outputs": [],
   "source": [
    "import sys\n",
    "sys.path.append(\"../\")\n",
    "from hello_world.tweet_evaluator import Process"
   ]
  },
  {
   "cell_type": "code",
   "execution_count": 5,
   "metadata": {
    "ExecuteTime": {
     "end_time": "2021-06-06T17:06:10.480224Z",
     "start_time": "2021-06-06T17:04:02.018180Z"
    }
   },
   "outputs": [],
   "source": [
    "pr = Process(data, \"../hello_world/\")\n",
    "pr.run()"
   ]
  },
  {
   "cell_type": "code",
   "execution_count": 6,
   "metadata": {
    "ExecuteTime": {
     "end_time": "2021-06-06T17:06:10.483958Z",
     "start_time": "2021-06-06T17:06:10.481925Z"
    }
   },
   "outputs": [],
   "source": [
    "features = [\n",
    "    'tweet_mensaje',\n",
    "    'n_emojis', 'n_lower', 'n_upper',\n",
    "    'n_digit', 'n_whitespaces', 'n_words', 'has_tags', 'has_hashtag',\n",
    "    'has_urls', 'n_exclamation', 'n_question', 'n_hashtag', 'n_tags',\n",
    "    'n_urls', 'count_personal_positive',\n",
    "    'count_personal_negative'\n",
    "]"
   ]
  },
  {
   "cell_type": "code",
   "execution_count": 7,
   "metadata": {
    "ExecuteTime": {
     "end_time": "2021-06-06T17:06:10.490841Z",
     "start_time": "2021-06-06T17:06:10.485206Z"
    }
   },
   "outputs": [],
   "source": [
    "# vect = CountVectorizer(stop_words=stopwords.words(\"spanish\"), ngram_range=(1, 1), min_df=1, max_features=100)"
   ]
  },
  {
   "cell_type": "code",
   "execution_count": 8,
   "metadata": {
    "ExecuteTime": {
     "end_time": "2021-06-06T17:06:10.495527Z",
     "start_time": "2021-06-06T17:06:10.492057Z"
    }
   },
   "outputs": [],
   "source": [
    "# vect.fit(data[\"tweet_clean\"])"
   ]
  },
  {
   "cell_type": "code",
   "execution_count": 9,
   "metadata": {
    "ExecuteTime": {
     "end_time": "2021-06-06T17:06:10.530756Z",
     "start_time": "2021-06-06T17:06:10.496678Z"
    }
   },
   "outputs": [],
   "source": [
    "X=pr.data[features]\n",
    "y=pr.data[\"sentiment\"]"
   ]
  },
  {
   "cell_type": "code",
   "execution_count": 10,
   "metadata": {
    "ExecuteTime": {
     "end_time": "2021-06-06T17:06:10.558666Z",
     "start_time": "2021-06-06T17:06:10.531895Z"
    }
   },
   "outputs": [],
   "source": [
    "mm_x = MinMaxScaler()\n",
    "Xs = mm_x.fit_transform(X)"
   ]
  },
  {
   "cell_type": "code",
   "execution_count": 11,
   "metadata": {
    "ExecuteTime": {
     "end_time": "2021-06-06T17:06:10.588955Z",
     "start_time": "2021-06-06T17:06:10.559997Z"
    }
   },
   "outputs": [],
   "source": [
    "X_train, X_test, y_train, y_test = train_test_split(Xs, y)"
   ]
  },
  {
   "cell_type": "code",
   "execution_count": 12,
   "metadata": {
    "ExecuteTime": {
     "end_time": "2021-06-06T17:06:10.592229Z",
     "start_time": "2021-06-06T17:06:10.590134Z"
    }
   },
   "outputs": [],
   "source": [
    "logreg = LogisticRegression(max_iter=1000, multi_class=\"multinomial\")"
   ]
  },
  {
   "cell_type": "code",
   "execution_count": 13,
   "metadata": {
    "ExecuteTime": {
     "end_time": "2021-06-06T17:06:25.908787Z",
     "start_time": "2021-06-06T17:06:10.593326Z"
    }
   },
   "outputs": [
    {
     "data": {
      "text/plain": [
       "LogisticRegression(max_iter=1000, multi_class='multinomial')"
      ]
     },
     "execution_count": 13,
     "metadata": {},
     "output_type": "execute_result"
    }
   ],
   "source": [
    "logreg.fit(X_train, y_train)"
   ]
  },
  {
   "cell_type": "code",
   "execution_count": 14,
   "metadata": {
    "ExecuteTime": {
     "end_time": "2021-06-06T17:06:25.988804Z",
     "start_time": "2021-06-06T17:06:25.910937Z"
    }
   },
   "outputs": [
    {
     "data": {
      "text/plain": [
       "0.8470325828133948"
      ]
     },
     "execution_count": 14,
     "metadata": {},
     "output_type": "execute_result"
    }
   ],
   "source": [
    "logreg.score(X_test, y_test)"
   ]
  },
  {
   "cell_type": "code",
   "execution_count": null,
   "metadata": {},
   "outputs": [],
   "source": [
    "ls_scores = cross_val_score(logreg, X_train, y_train, cv=4, n_jobs=-1)\n",
    "np.mean(ls_scores), np.std(ls_scores)"
   ]
  },
  {
   "cell_type": "code",
   "execution_count": 15,
   "metadata": {
    "ExecuteTime": {
     "end_time": "2021-06-06T17:06:25.999701Z",
     "start_time": "2021-06-06T17:06:25.990417Z"
    }
   },
   "outputs": [
    {
     "data": {
      "text/plain": [
       "array(['NEUTRAL', 'NEUTRAL', 'NEUTRAL', ..., 'NEUTRAL', 'NEUTRAL',\n",
       "       'NEUTRAL'], dtype=object)"
      ]
     },
     "execution_count": 15,
     "metadata": {},
     "output_type": "execute_result"
    }
   ],
   "source": [
    "logreg.predict(X_test)"
   ]
  },
  {
   "cell_type": "code",
   "execution_count": 16,
   "metadata": {
    "ExecuteTime": {
     "end_time": "2021-06-06T17:06:26.029621Z",
     "start_time": "2021-06-06T17:06:26.001751Z"
    }
   },
   "outputs": [
    {
     "data": {
      "text/html": [
       "<div>\n",
       "<style scoped>\n",
       "    .dataframe tbody tr th:only-of-type {\n",
       "        vertical-align: middle;\n",
       "    }\n",
       "\n",
       "    .dataframe tbody tr th {\n",
       "        vertical-align: top;\n",
       "    }\n",
       "\n",
       "    .dataframe thead th {\n",
       "        text-align: right;\n",
       "    }\n",
       "</style>\n",
       "<table border=\"1\" class=\"dataframe\">\n",
       "  <thead>\n",
       "    <tr style=\"text-align: right;\">\n",
       "      <th></th>\n",
       "      <th>0</th>\n",
       "      <th>1</th>\n",
       "      <th>2</th>\n",
       "      <th>3</th>\n",
       "    </tr>\n",
       "  </thead>\n",
       "  <tbody>\n",
       "    <tr>\n",
       "      <th>0</th>\n",
       "      <td>0.000656</td>\n",
       "      <td>0.014152</td>\n",
       "      <td>0.977352</td>\n",
       "      <td>0.007840</td>\n",
       "    </tr>\n",
       "    <tr>\n",
       "      <th>1</th>\n",
       "      <td>0.001449</td>\n",
       "      <td>0.035667</td>\n",
       "      <td>0.915102</td>\n",
       "      <td>0.047783</td>\n",
       "    </tr>\n",
       "    <tr>\n",
       "      <th>2</th>\n",
       "      <td>0.003076</td>\n",
       "      <td>0.154597</td>\n",
       "      <td>0.788659</td>\n",
       "      <td>0.053668</td>\n",
       "    </tr>\n",
       "    <tr>\n",
       "      <th>3</th>\n",
       "      <td>0.000802</td>\n",
       "      <td>0.011379</td>\n",
       "      <td>0.818374</td>\n",
       "      <td>0.169445</td>\n",
       "    </tr>\n",
       "    <tr>\n",
       "      <th>4</th>\n",
       "      <td>0.008323</td>\n",
       "      <td>0.030614</td>\n",
       "      <td>0.590797</td>\n",
       "      <td>0.370267</td>\n",
       "    </tr>\n",
       "    <tr>\n",
       "      <th>...</th>\n",
       "      <td>...</td>\n",
       "      <td>...</td>\n",
       "      <td>...</td>\n",
       "      <td>...</td>\n",
       "    </tr>\n",
       "    <tr>\n",
       "      <th>33172</th>\n",
       "      <td>0.001025</td>\n",
       "      <td>0.031245</td>\n",
       "      <td>0.902615</td>\n",
       "      <td>0.065115</td>\n",
       "    </tr>\n",
       "    <tr>\n",
       "      <th>33173</th>\n",
       "      <td>0.000185</td>\n",
       "      <td>0.008735</td>\n",
       "      <td>0.967342</td>\n",
       "      <td>0.023738</td>\n",
       "    </tr>\n",
       "    <tr>\n",
       "      <th>33174</th>\n",
       "      <td>0.005695</td>\n",
       "      <td>0.219271</td>\n",
       "      <td>0.715063</td>\n",
       "      <td>0.059971</td>\n",
       "    </tr>\n",
       "    <tr>\n",
       "      <th>33175</th>\n",
       "      <td>0.000114</td>\n",
       "      <td>0.002456</td>\n",
       "      <td>0.996013</td>\n",
       "      <td>0.001417</td>\n",
       "    </tr>\n",
       "    <tr>\n",
       "      <th>33176</th>\n",
       "      <td>0.000555</td>\n",
       "      <td>0.023431</td>\n",
       "      <td>0.940424</td>\n",
       "      <td>0.035591</td>\n",
       "    </tr>\n",
       "  </tbody>\n",
       "</table>\n",
       "<p>33177 rows × 4 columns</p>\n",
       "</div>"
      ],
      "text/plain": [
       "              0         1         2         3\n",
       "0      0.000656  0.014152  0.977352  0.007840\n",
       "1      0.001449  0.035667  0.915102  0.047783\n",
       "2      0.003076  0.154597  0.788659  0.053668\n",
       "3      0.000802  0.011379  0.818374  0.169445\n",
       "4      0.008323  0.030614  0.590797  0.370267\n",
       "...         ...       ...       ...       ...\n",
       "33172  0.001025  0.031245  0.902615  0.065115\n",
       "33173  0.000185  0.008735  0.967342  0.023738\n",
       "33174  0.005695  0.219271  0.715063  0.059971\n",
       "33175  0.000114  0.002456  0.996013  0.001417\n",
       "33176  0.000555  0.023431  0.940424  0.035591\n",
       "\n",
       "[33177 rows x 4 columns]"
      ]
     },
     "execution_count": 16,
     "metadata": {},
     "output_type": "execute_result"
    }
   ],
   "source": [
    "pd.DataFrame(logreg.predict_proba(X_test))"
   ]
  },
  {
   "cell_type": "code",
   "execution_count": 17,
   "metadata": {
    "ExecuteTime": {
     "end_time": "2021-06-06T17:06:26.036694Z",
     "start_time": "2021-06-06T17:06:26.032044Z"
    }
   },
   "outputs": [
    {
     "data": {
      "text/plain": [
       "array(['MIXED', 'NEGATIVE', 'NEUTRAL', 'POSITIVE'], dtype=object)"
      ]
     },
     "execution_count": 17,
     "metadata": {},
     "output_type": "execute_result"
    }
   ],
   "source": [
    "logreg.classes_"
   ]
  },
  {
   "cell_type": "code",
   "execution_count": 26,
   "metadata": {
    "ExecuteTime": {
     "end_time": "2021-06-06T17:19:49.678652Z",
     "start_time": "2021-06-06T17:19:49.675725Z"
    }
   },
   "outputs": [],
   "source": [
    "dump(logreg, open(\"los_merequetengues.pk\", 'wb'))"
   ]
  },
  {
   "cell_type": "code",
   "execution_count": 29,
   "metadata": {
    "ExecuteTime": {
     "end_time": "2021-06-06T17:21:58.745792Z",
     "start_time": "2021-06-06T17:21:58.705886Z"
    }
   },
   "outputs": [
    {
     "name": "stdout",
     "output_type": "stream",
     "text": [
      "0.8470325828133948\n"
     ]
    }
   ],
   "source": [
    "loaded_model = load(open(\"../hello_world/data/models/los_merequetengues.pk\", 'rb'))\n",
    "result = loaded_model.score(X_test, y_test)\n",
    "print(result)"
   ]
  },
  {
   "cell_type": "code",
   "execution_count": 49,
   "metadata": {
    "ExecuteTime": {
     "end_time": "2021-06-06T17:40:55.774844Z",
     "start_time": "2021-06-06T17:40:55.771510Z"
    }
   },
   "outputs": [],
   "source": [
    "def get_trained_model(data):\n",
    "    model = load(open(\"../hello_world/data/models/los_merequetengues.pk\", 'rb'))\n",
    "    predict = model.predict(data)\n",
    "    proba = model.predict_proba(data)\n",
    "    clases = model.classes_\n",
    "    return predict, proba, clases"
   ]
  },
  {
   "cell_type": "code",
   "execution_count": 50,
   "metadata": {
    "ExecuteTime": {
     "end_time": "2021-06-06T17:40:58.957954Z",
     "start_time": "2021-06-06T17:40:58.955424Z"
    }
   },
   "outputs": [],
   "source": [
    "sample = [X_test[0]]"
   ]
  },
  {
   "cell_type": "code",
   "execution_count": 51,
   "metadata": {
    "ExecuteTime": {
     "end_time": "2021-06-06T17:40:59.397346Z",
     "start_time": "2021-06-06T17:40:59.394106Z"
    }
   },
   "outputs": [],
   "source": [
    "predict, proba, cl = get_trained_model(sample)"
   ]
  },
  {
   "cell_type": "code",
   "execution_count": 52,
   "metadata": {
    "ExecuteTime": {
     "end_time": "2021-06-06T17:41:01.300914Z",
     "start_time": "2021-06-06T17:41:01.297537Z"
    }
   },
   "outputs": [
    {
     "data": {
      "text/plain": [
       "'NEUTRAL'"
      ]
     },
     "execution_count": 52,
     "metadata": {},
     "output_type": "execute_result"
    }
   ],
   "source": [
    "predict[0]"
   ]
  },
  {
   "cell_type": "code",
   "execution_count": 56,
   "metadata": {
    "ExecuteTime": {
     "end_time": "2021-06-06T18:05:09.398350Z",
     "start_time": "2021-06-06T18:05:09.394721Z"
    }
   },
   "outputs": [
    {
     "data": {
      "text/plain": [
       "0.0006558481909122644"
      ]
     },
     "execution_count": 56,
     "metadata": {},
     "output_type": "execute_result"
    }
   ],
   "source": [
    "proba[0][0]"
   ]
  },
  {
   "cell_type": "code",
   "execution_count": 54,
   "metadata": {
    "ExecuteTime": {
     "end_time": "2021-06-06T17:41:06.383124Z",
     "start_time": "2021-06-06T17:41:06.379123Z"
    }
   },
   "outputs": [
    {
     "data": {
      "text/plain": [
       "array(['MIXED', 'NEGATIVE', 'NEUTRAL', 'POSITIVE'], dtype=object)"
      ]
     },
     "execution_count": 54,
     "metadata": {},
     "output_type": "execute_result"
    }
   ],
   "source": [
    "cl"
   ]
  },
  {
   "cell_type": "code",
   "execution_count": null,
   "metadata": {},
   "outputs": [],
   "source": []
  }
 ],
 "metadata": {
  "kernelspec": {
   "display_name": "Python 3",
   "language": "python",
   "name": "python3"
  },
  "language_info": {
   "codemirror_mode": {
    "name": "ipython",
    "version": 3
   },
   "file_extension": ".py",
   "mimetype": "text/x-python",
   "name": "python",
   "nbconvert_exporter": "python",
   "pygments_lexer": "ipython3",
   "version": "3.8.5"
  }
 },
 "nbformat": 4,
 "nbformat_minor": 4
}
