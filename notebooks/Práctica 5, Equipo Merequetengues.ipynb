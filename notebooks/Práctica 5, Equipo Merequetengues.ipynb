{
 "cells": [
  {
   "cell_type": "code",
   "execution_count": 1,
   "metadata": {
    "ExecuteTime": {
     "end_time": "2021-06-06T17:21:54.890020Z",
     "start_time": "2021-06-06T17:21:54.885072Z"
    }
   },
   "outputs": [],
   "source": [
    "from sklearn.model_selection import cross_val_score, train_test_split, GridSearchCV, RandomizedSearchCV\n",
    "from sklearn.feature_extraction.text import CountVectorizer, TfidfVectorizer\n",
    "from sklearn.linear_model import LinearRegression, Lars, ElasticNet, Lasso, Ridge, BayesianRidge\n",
    "from sklearn.preprocessing import MinMaxScaler\n",
    "from sklearn.linear_model import Ridge\n",
    "import cufflinks as cf\n",
    "import pandas as pd\n",
    "import numpy as np\n",
    "import emoji\n",
    "import re\n",
    "from wordcloud import WordCloud, STOPWORDS\n",
    "import nltk\n",
    "import matplotlib.pyplot as plt\n",
    "import matplotlib\n",
    "import emoji\n",
    "import re\n",
    "import re, unicodedata\n",
    "from pandas import DataFrame\n",
    "from nltk.corpus import stopwords\n",
    "from sklearn.linear_model import LogisticRegression\n",
    "from pickle import dump, load"
   ]
  },
  {
   "cell_type": "code",
   "execution_count": 2,
   "metadata": {
    "ExecuteTime": {
     "end_time": "2021-06-06T17:04:01.978622Z",
     "start_time": "2021-06-06T17:04:01.146332Z"
    }
   },
   "outputs": [],
   "source": [
    "data= pd.read_csv('/Users/arianasalas/Downloads/Modulo 5/Untitled Folder/Notebook/betsentiment-ES-tweets-sentiment-teams.csv', encoding='latin1')"
   ]
  },
  {
   "cell_type": "code",
   "execution_count": 3,
   "metadata": {
    "ExecuteTime": {
     "end_time": "2021-06-06T17:04:02.003696Z",
     "start_time": "2021-06-06T17:04:01.979887Z"
    }
   },
   "outputs": [],
   "source": [
    "data.drop(['tweet_date_created','language', 'tweet_id', 'sentiment_score'], axis=1, inplace=True)"
   ]
  },
  {
   "cell_type": "code",
   "execution_count": 4,
   "metadata": {
    "ExecuteTime": {
     "end_time": "2021-06-06T17:04:02.016997Z",
     "start_time": "2021-06-06T17:04:02.004830Z"
    }
   },
   "outputs": [],
   "source": [
    "import sys\n",
    "sys.path.append(\"../\")\n",
    "from hello_world.tweet_evaluator import Process"
   ]
  },
  {
   "cell_type": "code",
   "execution_count": 5,
   "metadata": {
    "ExecuteTime": {
     "end_time": "2021-06-06T17:06:10.480224Z",
     "start_time": "2021-06-06T17:04:02.018180Z"
    }
   },
   "outputs": [
    {
     "name": "stdout",
     "output_type": "stream",
     "text": [
      "Starting process\n",
      "Process previous clean text\n",
      "Evaluating negative words\n"
     ]
    }
   ],
   "source": [
    "pr = Process(data, \"../hello_world/\")\n",
    "pr.run()"
   ]
  },
  {
   "cell_type": "code",
   "execution_count": 7,
   "metadata": {
    "ExecuteTime": {
     "end_time": "2021-06-06T17:06:10.483958Z",
     "start_time": "2021-06-06T17:06:10.481925Z"
    }
   },
   "outputs": [],
   "source": [
    "features = [\n",
    "    'tweet_mensaje',\n",
    "    'n_emojis', 'n_lower', 'n_upper',\n",
    "    'n_digit', 'n_whitespaces', 'n_words', 'has_tags', 'has_hashtag',\n",
    "    'has_urls', 'n_exclamation', 'n_question', 'n_hashtag', 'n_tags',\n",
    "    'n_urls', 'count_personal_positive',\n",
    "    'count_personal_negative'\n",
    "]"
   ]
  },
  {
   "cell_type": "code",
   "execution_count": null,
   "metadata": {
    "ExecuteTime": {
     "end_time": "2021-06-06T17:06:10.490841Z",
     "start_time": "2021-06-06T17:06:10.485206Z"
    }
   },
   "outputs": [],
   "source": [
    "# vect = CountVectorizer(stop_words=stopwords.words(\"spanish\"), ngram_range=(1, 1), min_df=1, max_features=100)"
   ]
  },
  {
   "cell_type": "code",
   "execution_count": null,
   "metadata": {
    "ExecuteTime": {
     "end_time": "2021-06-06T17:06:10.495527Z",
     "start_time": "2021-06-06T17:06:10.492057Z"
    }
   },
   "outputs": [],
   "source": [
    "# vect.fit(data[\"tweet_clean\"])"
   ]
  },
  {
   "cell_type": "code",
   "execution_count": 36,
   "metadata": {
    "ExecuteTime": {
     "end_time": "2021-06-06T17:06:10.530756Z",
     "start_time": "2021-06-06T17:06:10.496678Z"
    }
   },
   "outputs": [],
   "source": [
    "X=pr.data[features]\n",
    "y=pr.data[\"sentiment\"]"
   ]
  },
  {
   "cell_type": "code",
   "execution_count": 37,
   "metadata": {
    "ExecuteTime": {
     "end_time": "2021-06-06T17:06:10.558666Z",
     "start_time": "2021-06-06T17:06:10.531895Z"
    }
   },
   "outputs": [],
   "source": [
    "mm_x = MinMaxScaler()\n",
    "Xs = mm_x.fit_transform(X)"
   ]
  },
  {
   "cell_type": "code",
   "execution_count": 10,
   "metadata": {
    "ExecuteTime": {
     "end_time": "2021-06-06T17:06:10.588955Z",
     "start_time": "2021-06-06T17:06:10.559997Z"
    }
   },
   "outputs": [],
   "source": [
    "X_train, X_test, y_train, y_test = train_test_split(Xs, y)"
   ]
  },
  {
   "cell_type": "code",
   "execution_count": 11,
   "metadata": {
    "ExecuteTime": {
     "end_time": "2021-06-06T17:06:10.592229Z",
     "start_time": "2021-06-06T17:06:10.590134Z"
    }
   },
   "outputs": [],
   "source": [
    "logreg = LogisticRegression(max_iter=1000, multi_class=\"multinomial\")"
   ]
  },
  {
   "cell_type": "code",
   "execution_count": 12,
   "metadata": {
    "ExecuteTime": {
     "end_time": "2021-06-06T17:06:25.908787Z",
     "start_time": "2021-06-06T17:06:10.593326Z"
    }
   },
   "outputs": [
    {
     "data": {
      "text/plain": [
       "LogisticRegression(max_iter=1000, multi_class='multinomial')"
      ]
     },
     "execution_count": 12,
     "metadata": {},
     "output_type": "execute_result"
    }
   ],
   "source": [
    "logreg.fit(X_train, y_train)"
   ]
  },
  {
   "cell_type": "code",
   "execution_count": 13,
   "metadata": {
    "ExecuteTime": {
     "end_time": "2021-06-06T17:06:25.988804Z",
     "start_time": "2021-06-06T17:06:25.910937Z"
    }
   },
   "outputs": [
    {
     "data": {
      "text/plain": [
       "0.8446514151369925"
      ]
     },
     "execution_count": 13,
     "metadata": {},
     "output_type": "execute_result"
    }
   ],
   "source": [
    "logreg.score(X_test, y_test)"
   ]
  },
  {
   "cell_type": "code",
   "execution_count": 14,
   "metadata": {},
   "outputs": [
    {
     "data": {
      "text/plain": [
       "(0.8460263371861722, 0.001526955533976838)"
      ]
     },
     "execution_count": 14,
     "metadata": {},
     "output_type": "execute_result"
    }
   ],
   "source": [
    "ls_scores = cross_val_score(logreg, X_train, y_train, cv=4, n_jobs=-1)\n",
    "np.mean(ls_scores), np.std(ls_scores)"
   ]
  },
  {
   "cell_type": "code",
   "execution_count": 15,
   "metadata": {
    "ExecuteTime": {
     "end_time": "2021-06-06T17:06:25.999701Z",
     "start_time": "2021-06-06T17:06:25.990417Z"
    }
   },
   "outputs": [
    {
     "data": {
      "text/plain": [
       "array(['NEUTRAL', 'NEUTRAL', 'NEUTRAL', ..., 'NEUTRAL', 'NEUTRAL',\n",
       "       'NEUTRAL'], dtype=object)"
      ]
     },
     "execution_count": 15,
     "metadata": {},
     "output_type": "execute_result"
    }
   ],
   "source": [
    "logreg.predict(X_test)"
   ]
  },
  {
   "cell_type": "code",
   "execution_count": 16,
   "metadata": {
    "ExecuteTime": {
     "end_time": "2021-06-06T17:06:26.029621Z",
     "start_time": "2021-06-06T17:06:26.001751Z"
    }
   },
   "outputs": [
    {
     "data": {
      "text/html": [
       "<div>\n",
       "<style scoped>\n",
       "    .dataframe tbody tr th:only-of-type {\n",
       "        vertical-align: middle;\n",
       "    }\n",
       "\n",
       "    .dataframe tbody tr th {\n",
       "        vertical-align: top;\n",
       "    }\n",
       "\n",
       "    .dataframe thead th {\n",
       "        text-align: right;\n",
       "    }\n",
       "</style>\n",
       "<table border=\"1\" class=\"dataframe\">\n",
       "  <thead>\n",
       "    <tr style=\"text-align: right;\">\n",
       "      <th></th>\n",
       "      <th>0</th>\n",
       "      <th>1</th>\n",
       "      <th>2</th>\n",
       "      <th>3</th>\n",
       "    </tr>\n",
       "  </thead>\n",
       "  <tbody>\n",
       "    <tr>\n",
       "      <th>0</th>\n",
       "      <td>0.000311</td>\n",
       "      <td>0.014559</td>\n",
       "      <td>0.898496</td>\n",
       "      <td>0.086634</td>\n",
       "    </tr>\n",
       "    <tr>\n",
       "      <th>1</th>\n",
       "      <td>0.001558</td>\n",
       "      <td>0.065245</td>\n",
       "      <td>0.855902</td>\n",
       "      <td>0.077295</td>\n",
       "    </tr>\n",
       "    <tr>\n",
       "      <th>2</th>\n",
       "      <td>0.000356</td>\n",
       "      <td>0.014603</td>\n",
       "      <td>0.899393</td>\n",
       "      <td>0.085648</td>\n",
       "    </tr>\n",
       "    <tr>\n",
       "      <th>3</th>\n",
       "      <td>0.001154</td>\n",
       "      <td>0.041625</td>\n",
       "      <td>0.896033</td>\n",
       "      <td>0.061188</td>\n",
       "    </tr>\n",
       "    <tr>\n",
       "      <th>4</th>\n",
       "      <td>0.001562</td>\n",
       "      <td>0.041768</td>\n",
       "      <td>0.876604</td>\n",
       "      <td>0.080066</td>\n",
       "    </tr>\n",
       "    <tr>\n",
       "      <th>...</th>\n",
       "      <td>...</td>\n",
       "      <td>...</td>\n",
       "      <td>...</td>\n",
       "      <td>...</td>\n",
       "    </tr>\n",
       "    <tr>\n",
       "      <th>33172</th>\n",
       "      <td>0.000199</td>\n",
       "      <td>0.008003</td>\n",
       "      <td>0.974793</td>\n",
       "      <td>0.017005</td>\n",
       "    </tr>\n",
       "    <tr>\n",
       "      <th>33173</th>\n",
       "      <td>0.002766</td>\n",
       "      <td>0.073824</td>\n",
       "      <td>0.833092</td>\n",
       "      <td>0.090318</td>\n",
       "    </tr>\n",
       "    <tr>\n",
       "      <th>33174</th>\n",
       "      <td>0.003120</td>\n",
       "      <td>0.063169</td>\n",
       "      <td>0.854166</td>\n",
       "      <td>0.079545</td>\n",
       "    </tr>\n",
       "    <tr>\n",
       "      <th>33175</th>\n",
       "      <td>0.003963</td>\n",
       "      <td>0.192437</td>\n",
       "      <td>0.749204</td>\n",
       "      <td>0.054396</td>\n",
       "    </tr>\n",
       "    <tr>\n",
       "      <th>33176</th>\n",
       "      <td>0.002761</td>\n",
       "      <td>0.005849</td>\n",
       "      <td>0.594796</td>\n",
       "      <td>0.396594</td>\n",
       "    </tr>\n",
       "  </tbody>\n",
       "</table>\n",
       "<p>33177 rows × 4 columns</p>\n",
       "</div>"
      ],
      "text/plain": [
       "              0         1         2         3\n",
       "0      0.000311  0.014559  0.898496  0.086634\n",
       "1      0.001558  0.065245  0.855902  0.077295\n",
       "2      0.000356  0.014603  0.899393  0.085648\n",
       "3      0.001154  0.041625  0.896033  0.061188\n",
       "4      0.001562  0.041768  0.876604  0.080066\n",
       "...         ...       ...       ...       ...\n",
       "33172  0.000199  0.008003  0.974793  0.017005\n",
       "33173  0.002766  0.073824  0.833092  0.090318\n",
       "33174  0.003120  0.063169  0.854166  0.079545\n",
       "33175  0.003963  0.192437  0.749204  0.054396\n",
       "33176  0.002761  0.005849  0.594796  0.396594\n",
       "\n",
       "[33177 rows x 4 columns]"
      ]
     },
     "execution_count": 16,
     "metadata": {},
     "output_type": "execute_result"
    }
   ],
   "source": [
    "pd.DataFrame(logreg.predict_proba(X_test))"
   ]
  },
  {
   "cell_type": "code",
   "execution_count": 17,
   "metadata": {
    "ExecuteTime": {
     "end_time": "2021-06-06T17:06:26.036694Z",
     "start_time": "2021-06-06T17:06:26.032044Z"
    }
   },
   "outputs": [
    {
     "data": {
      "text/plain": [
       "array(['MIXED', 'NEGATIVE', 'NEUTRAL', 'POSITIVE'], dtype=object)"
      ]
     },
     "execution_count": 17,
     "metadata": {},
     "output_type": "execute_result"
    }
   ],
   "source": [
    "logreg.classes_"
   ]
  },
  {
   "cell_type": "code",
   "execution_count": 19,
   "metadata": {
    "ExecuteTime": {
     "end_time": "2021-06-06T17:21:58.745792Z",
     "start_time": "2021-06-06T17:21:58.705886Z"
    }
   },
   "outputs": [
    {
     "name": "stdout",
     "output_type": "stream",
     "text": [
      "0.8445308496850228\n"
     ]
    }
   ],
   "source": [
    "loaded_model = load(open(\"../hello_world/data/models/los_merequetengues.pk\", 'rb'))\n",
    "result = loaded_model.score(X_test, y_test)\n",
    "print(result)"
   ]
  },
  {
   "cell_type": "code",
   "execution_count": 20,
   "metadata": {
    "ExecuteTime": {
     "end_time": "2021-06-06T17:40:55.774844Z",
     "start_time": "2021-06-06T17:40:55.771510Z"
    }
   },
   "outputs": [],
   "source": [
    "def get_trained_model(data):\n",
    "    model = load(open(\"../hello_world/data/models/los_merequetengues.pk\", 'rb'))\n",
    "    predict = model.predict(data)\n",
    "    proba = model.predict_proba(data)\n",
    "    clases = model.classes_\n",
    "    return predict, proba, clases"
   ]
  },
  {
   "cell_type": "code",
   "execution_count": 26,
   "metadata": {},
   "outputs": [
    {
     "data": {
      "text/plain": [
       "array([[0.1654321 , 0.        , 0.16508539, ..., 0.16666667, 0.        ,\n",
       "        0.        ],\n",
       "       [0.08148148, 0.        , 0.08918406, ..., 0.        , 0.        ,\n",
       "        0.        ],\n",
       "       [0.18024691, 0.        , 0.19165085, ..., 0.16666667, 0.        ,\n",
       "        0.        ],\n",
       "       ...,\n",
       "       [0.18024691, 0.        , 0.20683112, ..., 0.        , 0.        ,\n",
       "        0.        ],\n",
       "       [0.10493827, 0.        , 0.11954459, ..., 0.        , 0.        ,\n",
       "        0.16666667],\n",
       "       [0.2037037 , 0.        , 0.21252372, ..., 0.16666667, 0.42857143,\n",
       "        0.        ]])"
      ]
     },
     "execution_count": 26,
     "metadata": {},
     "output_type": "execute_result"
    }
   ],
   "source": [
    "sample"
   ]
  },
  {
   "cell_type": "code",
   "execution_count": 25,
   "metadata": {
    "ExecuteTime": {
     "end_time": "2021-06-06T23:54:59.894384Z",
     "start_time": "2021-06-06T23:54:59.891960Z"
    }
   },
   "outputs": [],
   "source": [
    "sample = X_test"
   ]
  },
  {
   "cell_type": "code",
   "execution_count": 22,
   "metadata": {
    "ExecuteTime": {
     "end_time": "2021-06-06T23:56:02.104619Z",
     "start_time": "2021-06-06T23:56:02.097646Z"
    }
   },
   "outputs": [
    {
     "data": {
      "text/plain": [
       "array(['NEUTRAL', 'NEUTRAL', 'NEUTRAL', ..., 'NEUTRAL', 'NEUTRAL',\n",
       "       'NEUTRAL'], dtype=object)"
      ]
     },
     "execution_count": 22,
     "metadata": {},
     "output_type": "execute_result"
    }
   ],
   "source": [
    "loaded_model.predict(X_test)"
   ]
  },
  {
   "cell_type": "code",
   "execution_count": 27,
   "metadata": {
    "ExecuteTime": {
     "end_time": "2021-06-06T23:55:00.568451Z",
     "start_time": "2021-06-06T23:55:00.550810Z"
    }
   },
   "outputs": [],
   "source": [
    "predict, proba, cl = get_trained_model(sample)"
   ]
  },
  {
   "cell_type": "code",
   "execution_count": 28,
   "metadata": {
    "ExecuteTime": {
     "end_time": "2021-06-06T23:54:33.217743Z",
     "start_time": "2021-06-06T23:54:33.215127Z"
    }
   },
   "outputs": [
    {
     "data": {
      "text/plain": [
       "array(['NEUTRAL', 'NEUTRAL', 'NEUTRAL', ..., 'NEUTRAL', 'NEUTRAL',\n",
       "       'NEUTRAL'], dtype=object)"
      ]
     },
     "execution_count": 28,
     "metadata": {},
     "output_type": "execute_result"
    }
   ],
   "source": [
    "predict"
   ]
  },
  {
   "cell_type": "code",
   "execution_count": 29,
   "metadata": {
    "ExecuteTime": {
     "end_time": "2021-06-06T18:05:09.398350Z",
     "start_time": "2021-06-06T18:05:09.394721Z"
    }
   },
   "outputs": [
    {
     "data": {
      "text/plain": [
       "0.00029305409609954125"
      ]
     },
     "execution_count": 29,
     "metadata": {},
     "output_type": "execute_result"
    }
   ],
   "source": [
    "proba[0][0]"
   ]
  },
  {
   "cell_type": "code",
   "execution_count": 30,
   "metadata": {
    "ExecuteTime": {
     "end_time": "2021-06-06T17:41:06.383124Z",
     "start_time": "2021-06-06T17:41:06.379123Z"
    }
   },
   "outputs": [
    {
     "data": {
      "text/plain": [
       "array(['MIXED', 'NEGATIVE', 'NEUTRAL', 'POSITIVE'], dtype=object)"
      ]
     },
     "execution_count": 30,
     "metadata": {},
     "output_type": "execute_result"
    }
   ],
   "source": [
    "cl"
   ]
  },
  {
   "cell_type": "markdown",
   "metadata": {},
   "source": [
    "# Clusters"
   ]
  },
  {
   "cell_type": "code",
   "execution_count": 35,
   "metadata": {},
   "outputs": [
    {
     "data": {
      "text/plain": [
       "array([[0.18641975, 0.        , 0.21631879, ..., 0.        , 0.14285714,\n",
       "        0.33333333],\n",
       "       [0.09753086, 0.        , 0.10436433, ..., 0.        , 0.        ,\n",
       "        0.        ],\n",
       "       [0.1617284 , 0.        , 0.17267552, ..., 0.33333333, 0.        ,\n",
       "        0.        ],\n",
       "       ...,\n",
       "       [0.11481481, 0.        , 0.11005693, ..., 0.        , 0.        ,\n",
       "        0.        ],\n",
       "       [0.08148148, 0.        , 0.08728653, ..., 0.        , 0.14285714,\n",
       "        0.        ],\n",
       "       [0.13703704, 0.        , 0.14231499, ..., 0.16666667, 0.14285714,\n",
       "        0.        ]])"
      ]
     },
     "execution_count": 35,
     "metadata": {},
     "output_type": "execute_result"
    }
   ],
   "source": [
    "Xs"
   ]
  },
  {
   "cell_type": "code",
   "execution_count": 32,
   "metadata": {},
   "outputs": [],
   "source": [
    "from sklearn.cluster import KMeans, DBSCAN, AgglomerativeClustering\n",
    "from sklearn.metrics import davies_bouldin_score, silhouette_score"
   ]
  },
  {
   "cell_type": "code",
   "execution_count": 39,
   "metadata": {},
   "outputs": [
    {
     "name": "stdout",
     "output_type": "stream",
     "text": [
      "2\n",
      "3\n",
      "4\n",
      "5\n",
      "6\n",
      "7\n",
      "8\n",
      "9\n"
     ]
    }
   ],
   "source": [
    "sse,db,slc = {}, {}, {}\n",
    "for k in range(2, 10):\n",
    "    print(k)\n",
    "    mini_Xp = X.sample(frac=0.1)\n",
    "    kmeans = KMeans(n_clusters=k, random_state=10).fit(mini_Xp)\n",
    "    if k == 3: \n",
    "        labels = kmeans.labels_\n",
    "    clusters = kmeans.labels_\n",
    "    sse[k] = kmeans.inertia_\n",
    "    db[k] = davies_bouldin_score(mini_Xp,clusters)\n",
    "    slc[k] = silhouette_score(mini_Xp,clusters)"
   ]
  },
  {
   "cell_type": "code",
   "execution_count": 40,
   "metadata": {},
   "outputs": [
    {
     "data": {
      "image/png": "[encoded data removed]",
      "text/plain": [
       "<Figure size 1080x720 with 1 Axes>"
      ]
     },
     "metadata": {
      "needs_background": "light"
     },
     "output_type": "display_data"
    }
   ],
   "source": [
    "plt.figure(figsize=(15,10))\n",
    "plt.plot(list(sse.keys()), list(sse.values()), \"bx-\")\n",
    "plt.xlabel(\"Number of cluster\")\n",
    "plt.ylabel(\"SSE\")\n",
    "plt.show()"
   ]
  },
  {
   "cell_type": "code",
   "execution_count": 41,
   "metadata": {},
   "outputs": [
    {
     "data": {
      "image/png": "[encoded data removed]",
      "text/plain": [
       "<Figure size 1080x720 with 1 Axes>"
      ]
     },
     "metadata": {
      "needs_background": "light"
     },
     "output_type": "display_data"
    }
   ],
   "source": [
    "plt.figure(figsize=(15,10))\n",
    "plt.plot(list(db.keys()), list(db.values()), \"bx-\")\n",
    "plt.xlabel(\"Number of cluster\")\n",
    "plt.ylabel(\"Davies-Bouldin values\")\n",
    "plt.show()"
   ]
  },
  {
   "cell_type": "code",
   "execution_count": 42,
   "metadata": {},
   "outputs": [
    {
     "data": {
      "image/png": "[encoded data removed]",
      "text/plain": [
       "<Figure size 1080x720 with 1 Axes>"
      ]
     },
     "metadata": {
      "needs_background": "light"
     },
     "output_type": "display_data"
    }
   ],
   "source": [
    "plt.figure(figsize=(15,10))\n",
    "plt.plot(list(slc.keys()), list(slc.values()), \"bx-\")\n",
    "plt.xlabel(\"Number of cluster\")\n",
    "plt.ylabel(\"Silhouette score\")\n",
    "plt.show()"
   ]
  },
  {
   "cell_type": "code",
   "execution_count": 43,
   "metadata": {},
   "outputs": [],
   "source": [
    "km = KMeans(n_clusters=4, n_jobs=-1, random_state=10)"
   ]
  },
  {
   "cell_type": "code",
   "execution_count": 45,
   "metadata": {},
   "outputs": [
    {
     "name": "stderr",
     "output_type": "stream",
     "text": [
      "/Users/arianasalas/Documents/Ariana/last_pr/venv/lib/python3.7/site-packages/sklearn/cluster/_kmeans.py:793: FutureWarning:\n",
      "\n",
      "'n_jobs' was deprecated in version 0.23 and will be removed in 1.0 (renaming of 0.25).\n",
      "\n"
     ]
    },
    {
     "data": {
      "text/plain": [
       "KMeans(n_clusters=4, n_jobs=-1, random_state=10)"
      ]
     },
     "execution_count": 45,
     "metadata": {},
     "output_type": "execute_result"
    }
   ],
   "source": [
    "km.fit(Xs)"
   ]
  },
  {
   "cell_type": "code",
   "execution_count": 46,
   "metadata": {},
   "outputs": [
    {
     "data": {
      "text/plain": [
       "array([1, 1, 2, ..., 1, 2, 3], dtype=int32)"
      ]
     },
     "execution_count": 46,
     "metadata": {},
     "output_type": "execute_result"
    }
   ],
   "source": [
    "km.predict(Xs)"
   ]
  },
  {
   "cell_type": "code",
   "execution_count": 47,
   "metadata": {},
   "outputs": [],
   "source": [
    "from sklearn.mixture import GaussianMixture"
   ]
  },
  {
   "cell_type": "code",
   "execution_count": 48,
   "metadata": {},
   "outputs": [],
   "source": [
    "gmm = GaussianMixture(n_components=4)"
   ]
  },
  {
   "cell_type": "code",
   "execution_count": 49,
   "metadata": {},
   "outputs": [
    {
     "data": {
      "text/plain": [
       "GaussianMixture(n_components=4)"
      ]
     },
     "execution_count": 49,
     "metadata": {},
     "output_type": "execute_result"
    }
   ],
   "source": [
    "gmm.fit(Xs)"
   ]
  },
  {
   "cell_type": "code",
   "execution_count": 53,
   "metadata": {},
   "outputs": [],
   "source": [
    "X['cluster']=gmm.predict(Xs)"
   ]
  },
  {
   "cell_type": "code",
   "execution_count": 54,
   "metadata": {},
   "outputs": [
    {
     "data": {
      "text/html": [
       "<style  type=\"text/css\" >\n",
       "#T_bbe58d78_c98d_11eb_a076_acde48001122row0_col0{\n",
       "            background-color:  #7cb7da;\n",
       "            color:  #000000;\n",
       "        }#T_bbe58d78_c98d_11eb_a076_acde48001122row0_col1{\n",
       "            background-color:  #75b4d8;\n",
       "            color:  #000000;\n",
       "        }#T_bbe58d78_c98d_11eb_a076_acde48001122row0_col2{\n",
       "            background-color:  #dceaf6;\n",
       "            color:  #000000;\n",
       "        }#T_bbe58d78_c98d_11eb_a076_acde48001122row0_col3{\n",
       "            background-color:  #083c7d;\n",
       "            color:  #f1f1f1;\n",
       "        }#T_bbe58d78_c98d_11eb_a076_acde48001122row0_col4{\n",
       "            background-color:  #77b5d9;\n",
       "            color:  #000000;\n",
       "        }#T_bbe58d78_c98d_11eb_a076_acde48001122row0_col5{\n",
       "            background-color:  #65aad4;\n",
       "            color:  #000000;\n",
       "        }#T_bbe58d78_c98d_11eb_a076_acde48001122row0_col6{\n",
       "            background-color:  #b2d2e8;\n",
       "            color:  #000000;\n",
       "        }#T_bbe58d78_c98d_11eb_a076_acde48001122row0_col7{\n",
       "            background-color:  #2b7bba;\n",
       "            color:  #000000;\n",
       "        }#T_bbe58d78_c98d_11eb_a076_acde48001122row0_col8{\n",
       "            background-color:  #68acd5;\n",
       "            color:  #000000;\n",
       "        }#T_bbe58d78_c98d_11eb_a076_acde48001122row0_col9{\n",
       "            background-color:  #63a8d3;\n",
       "            color:  #000000;\n",
       "        }#T_bbe58d78_c98d_11eb_a076_acde48001122row0_col10,#T_bbe58d78_c98d_11eb_a076_acde48001122row0_col11,#T_bbe58d78_c98d_11eb_a076_acde48001122row0_col15,#T_bbe58d78_c98d_11eb_a076_acde48001122row1_col7,#T_bbe58d78_c98d_11eb_a076_acde48001122row1_col13,#T_bbe58d78_c98d_11eb_a076_acde48001122row1_col16,#T_bbe58d78_c98d_11eb_a076_acde48001122row2_col1,#T_bbe58d78_c98d_11eb_a076_acde48001122row2_col6,#T_bbe58d78_c98d_11eb_a076_acde48001122row2_col8,#T_bbe58d78_c98d_11eb_a076_acde48001122row2_col12,#T_bbe58d78_c98d_11eb_a076_acde48001122row3_col0,#T_bbe58d78_c98d_11eb_a076_acde48001122row3_col2,#T_bbe58d78_c98d_11eb_a076_acde48001122row3_col3,#T_bbe58d78_c98d_11eb_a076_acde48001122row3_col4,#T_bbe58d78_c98d_11eb_a076_acde48001122row3_col5,#T_bbe58d78_c98d_11eb_a076_acde48001122row3_col7,#T_bbe58d78_c98d_11eb_a076_acde48001122row3_col9,#T_bbe58d78_c98d_11eb_a076_acde48001122row3_col14{\n",
       "            background-color:  #08306b;\n",
       "            color:  #f1f1f1;\n",
       "        }#T_bbe58d78_c98d_11eb_a076_acde48001122row0_col12{\n",
       "            background-color:  #abd0e6;\n",
       "            color:  #000000;\n",
       "        }#T_bbe58d78_c98d_11eb_a076_acde48001122row0_col13{\n",
       "            background-color:  #5ca4d0;\n",
       "            color:  #000000;\n",
       "        }#T_bbe58d78_c98d_11eb_a076_acde48001122row0_col14{\n",
       "            background-color:  #5da5d1;\n",
       "            color:  #000000;\n",
       "        }#T_bbe58d78_c98d_11eb_a076_acde48001122row0_col16{\n",
       "            background-color:  #a1cbe2;\n",
       "            color:  #000000;\n",
       "        }#T_bbe58d78_c98d_11eb_a076_acde48001122row1_col0,#T_bbe58d78_c98d_11eb_a076_acde48001122row1_col1,#T_bbe58d78_c98d_11eb_a076_acde48001122row1_col2,#T_bbe58d78_c98d_11eb_a076_acde48001122row1_col3,#T_bbe58d78_c98d_11eb_a076_acde48001122row1_col4,#T_bbe58d78_c98d_11eb_a076_acde48001122row1_col5,#T_bbe58d78_c98d_11eb_a076_acde48001122row1_col6,#T_bbe58d78_c98d_11eb_a076_acde48001122row1_col8,#T_bbe58d78_c98d_11eb_a076_acde48001122row1_col9,#T_bbe58d78_c98d_11eb_a076_acde48001122row1_col10,#T_bbe58d78_c98d_11eb_a076_acde48001122row1_col11,#T_bbe58d78_c98d_11eb_a076_acde48001122row1_col12,#T_bbe58d78_c98d_11eb_a076_acde48001122row1_col14,#T_bbe58d78_c98d_11eb_a076_acde48001122row2_col7,#T_bbe58d78_c98d_11eb_a076_acde48001122row2_col10,#T_bbe58d78_c98d_11eb_a076_acde48001122row2_col11,#T_bbe58d78_c98d_11eb_a076_acde48001122row2_col13,#T_bbe58d78_c98d_11eb_a076_acde48001122row3_col10,#T_bbe58d78_c98d_11eb_a076_acde48001122row3_col11,#T_bbe58d78_c98d_11eb_a076_acde48001122row3_col15,#T_bbe58d78_c98d_11eb_a076_acde48001122row3_col16{\n",
       "            background-color:  #f7fbff;\n",
       "            color:  #000000;\n",
       "        }#T_bbe58d78_c98d_11eb_a076_acde48001122row1_col15{\n",
       "            background-color:  #0f5aa3;\n",
       "            color:  #f1f1f1;\n",
       "        }#T_bbe58d78_c98d_11eb_a076_acde48001122row2_col0{\n",
       "            background-color:  #1e6db2;\n",
       "            color:  #f1f1f1;\n",
       "        }#T_bbe58d78_c98d_11eb_a076_acde48001122row2_col2{\n",
       "            background-color:  #1c6ab0;\n",
       "            color:  #f1f1f1;\n",
       "        }#T_bbe58d78_c98d_11eb_a076_acde48001122row2_col3{\n",
       "            background-color:  #2474b7;\n",
       "            color:  #f1f1f1;\n",
       "        }#T_bbe58d78_c98d_11eb_a076_acde48001122row2_col4{\n",
       "            background-color:  #2c7cba;\n",
       "            color:  #000000;\n",
       "        }#T_bbe58d78_c98d_11eb_a076_acde48001122row2_col5{\n",
       "            background-color:  #083573;\n",
       "            color:  #f1f1f1;\n",
       "        }#T_bbe58d78_c98d_11eb_a076_acde48001122row2_col9{\n",
       "            background-color:  #4493c7;\n",
       "            color:  #000000;\n",
       "        }#T_bbe58d78_c98d_11eb_a076_acde48001122row2_col14{\n",
       "            background-color:  #3f8fc5;\n",
       "            color:  #000000;\n",
       "        }#T_bbe58d78_c98d_11eb_a076_acde48001122row2_col15{\n",
       "            background-color:  #539ecd;\n",
       "            color:  #000000;\n",
       "        }#T_bbe58d78_c98d_11eb_a076_acde48001122row2_col16{\n",
       "            background-color:  #a4cce3;\n",
       "            color:  #000000;\n",
       "        }#T_bbe58d78_c98d_11eb_a076_acde48001122row3_col1{\n",
       "            background-color:  #bcd7eb;\n",
       "            color:  #000000;\n",
       "        }#T_bbe58d78_c98d_11eb_a076_acde48001122row3_col6{\n",
       "            background-color:  #084387;\n",
       "            color:  #f1f1f1;\n",
       "        }#T_bbe58d78_c98d_11eb_a076_acde48001122row3_col8{\n",
       "            background-color:  #5ba3d0;\n",
       "            color:  #000000;\n",
       "        }#T_bbe58d78_c98d_11eb_a076_acde48001122row3_col12{\n",
       "            background-color:  #8cc0dd;\n",
       "            color:  #000000;\n",
       "        }#T_bbe58d78_c98d_11eb_a076_acde48001122row3_col13{\n",
       "            background-color:  #3e8ec4;\n",
       "            color:  #000000;\n",
       "        }</style><table id=\"T_bbe58d78_c98d_11eb_a076_acde48001122\" ><thead>    <tr>        <th class=\"blank level0\" ></th>        <th class=\"col_heading level0 col0\" >tweet_mensaje</th>        <th class=\"col_heading level0 col1\" >n_emojis</th>        <th class=\"col_heading level0 col2\" >n_lower</th>        <th class=\"col_heading level0 col3\" >n_upper</th>        <th class=\"col_heading level0 col4\" >n_digit</th>        <th class=\"col_heading level0 col5\" >n_whitespaces</th>        <th class=\"col_heading level0 col6\" >n_words</th>        <th class=\"col_heading level0 col7\" >has_tags</th>        <th class=\"col_heading level0 col8\" >has_hashtag</th>        <th class=\"col_heading level0 col9\" >has_urls</th>        <th class=\"col_heading level0 col10\" >n_exclamation</th>        <th class=\"col_heading level0 col11\" >n_question</th>        <th class=\"col_heading level0 col12\" >n_hashtag</th>        <th class=\"col_heading level0 col13\" >n_tags</th>        <th class=\"col_heading level0 col14\" >n_urls</th>        <th class=\"col_heading level0 col15\" >count_personal_positive</th>        <th class=\"col_heading level0 col16\" >count_personal_negative</th>    </tr>    <tr>        <th class=\"index_name level0\" >cluster</th>        <th class=\"blank\" ></th>        <th class=\"blank\" ></th>        <th class=\"blank\" ></th>        <th class=\"blank\" ></th>        <th class=\"blank\" ></th>        <th class=\"blank\" ></th>        <th class=\"blank\" ></th>        <th class=\"blank\" ></th>        <th class=\"blank\" ></th>        <th class=\"blank\" ></th>        <th class=\"blank\" ></th>        <th class=\"blank\" ></th>        <th class=\"blank\" ></th>        <th class=\"blank\" ></th>        <th class=\"blank\" ></th>        <th class=\"blank\" ></th>        <th class=\"blank\" ></th>    </tr></thead><tbody>\n",
       "                <tr>\n",
       "                        <th id=\"T_bbe58d78_c98d_11eb_a076_acde48001122level0_row0\" class=\"row_heading level0 row0\" >0</th>\n",
       "                        <td id=\"T_bbe58d78_c98d_11eb_a076_acde48001122row0_col0\" class=\"data row0 col0\" >158.735067</td>\n",
       "                        <td id=\"T_bbe58d78_c98d_11eb_a076_acde48001122row0_col1\" class=\"data row0 col1\" >0.000639</td>\n",
       "                        <td id=\"T_bbe58d78_c98d_11eb_a076_acde48001122row0_col2\" class=\"data row0 col2\" >100.201186</td>\n",
       "                        <td id=\"T_bbe58d78_c98d_11eb_a076_acde48001122row0_col3\" class=\"data row0 col3\" >18.828428</td>\n",
       "                        <td id=\"T_bbe58d78_c98d_11eb_a076_acde48001122row0_col4\" class=\"data row0 col4\" >3.157928</td>\n",
       "                        <td id=\"T_bbe58d78_c98d_11eb_a076_acde48001122row0_col5\" class=\"data row0 col5\" >22.904632</td>\n",
       "                        <td id=\"T_bbe58d78_c98d_11eb_a076_acde48001122row0_col6\" class=\"data row0 col6\" >22.299886</td>\n",
       "                        <td id=\"T_bbe58d78_c98d_11eb_a076_acde48001122row0_col7\" class=\"data row0 col7\" >0.712161</td>\n",
       "                        <td id=\"T_bbe58d78_c98d_11eb_a076_acde48001122row0_col8\" class=\"data row0 col8\" >0.608350</td>\n",
       "                        <td id=\"T_bbe58d78_c98d_11eb_a076_acde48001122row0_col9\" class=\"data row0 col9\" >0.525941</td>\n",
       "                        <td id=\"T_bbe58d78_c98d_11eb_a076_acde48001122row0_col10\" class=\"data row0 col10\" >1.000000</td>\n",
       "                        <td id=\"T_bbe58d78_c98d_11eb_a076_acde48001122row0_col11\" class=\"data row0 col11\" >1.000000</td>\n",
       "                        <td id=\"T_bbe58d78_c98d_11eb_a076_acde48001122row0_col12\" class=\"data row0 col12\" >1.571024</td>\n",
       "                        <td id=\"T_bbe58d78_c98d_11eb_a076_acde48001122row0_col13\" class=\"data row0 col13\" >1.970888</td>\n",
       "                        <td id=\"T_bbe58d78_c98d_11eb_a076_acde48001122row0_col14\" class=\"data row0 col14\" >0.625690</td>\n",
       "                        <td id=\"T_bbe58d78_c98d_11eb_a076_acde48001122row0_col15\" class=\"data row0 col15\" >0.479352</td>\n",
       "                        <td id=\"T_bbe58d78_c98d_11eb_a076_acde48001122row0_col16\" class=\"data row0 col16\" >0.336482</td>\n",
       "            </tr>\n",
       "            <tr>\n",
       "                        <th id=\"T_bbe58d78_c98d_11eb_a076_acde48001122level0_row1\" class=\"row_heading level0 row1\" >1</th>\n",
       "                        <td id=\"T_bbe58d78_c98d_11eb_a076_acde48001122row1_col0\" class=\"data row1 col0\" >141.205434</td>\n",
       "                        <td id=\"T_bbe58d78_c98d_11eb_a076_acde48001122row1_col1\" class=\"data row1 col1\" >0.000099</td>\n",
       "                        <td id=\"T_bbe58d78_c98d_11eb_a076_acde48001122row1_col2\" class=\"data row1 col2\" >97.775692</td>\n",
       "                        <td id=\"T_bbe58d78_c98d_11eb_a076_acde48001122row1_col3\" class=\"data row1 col3\" >12.091713</td>\n",
       "                        <td id=\"T_bbe58d78_c98d_11eb_a076_acde48001122row1_col4\" class=\"data row1 col4\" >1.940145</td>\n",
       "                        <td id=\"T_bbe58d78_c98d_11eb_a076_acde48001122row1_col5\" class=\"data row1 col5\" >21.076602</td>\n",
       "                        <td id=\"T_bbe58d78_c98d_11eb_a076_acde48001122row1_col6\" class=\"data row1 col6\" >21.470171</td>\n",
       "                        <td id=\"T_bbe58d78_c98d_11eb_a076_acde48001122row1_col7\" class=\"data row1 col7\" >0.999586</td>\n",
       "                        <td id=\"T_bbe58d78_c98d_11eb_a076_acde48001122row1_col8\" class=\"data row1 col8\" >0.198341</td>\n",
       "                        <td id=\"T_bbe58d78_c98d_11eb_a076_acde48001122row1_col9\" class=\"data row1 col9\" >0.000000</td>\n",
       "                        <td id=\"T_bbe58d78_c98d_11eb_a076_acde48001122row1_col10\" class=\"data row1 col10\" >0.000000</td>\n",
       "                        <td id=\"T_bbe58d78_c98d_11eb_a076_acde48001122row1_col11\" class=\"data row1 col11\" >0.000000</td>\n",
       "                        <td id=\"T_bbe58d78_c98d_11eb_a076_acde48001122row1_col12\" class=\"data row1 col12\" >0.390772</td>\n",
       "                        <td id=\"T_bbe58d78_c98d_11eb_a076_acde48001122row1_col13\" class=\"data row1 col13\" >3.616144</td>\n",
       "                        <td id=\"T_bbe58d78_c98d_11eb_a076_acde48001122row1_col14\" class=\"data row1 col14\" >0.000000</td>\n",
       "                        <td id=\"T_bbe58d78_c98d_11eb_a076_acde48001122row1_col15\" class=\"data row1 col15\" >0.462093</td>\n",
       "                        <td id=\"T_bbe58d78_c98d_11eb_a076_acde48001122row1_col16\" class=\"data row1 col16\" >0.497774</td>\n",
       "            </tr>\n",
       "            <tr>\n",
       "                        <th id=\"T_bbe58d78_c98d_11eb_a076_acde48001122level0_row2\" class=\"row_heading level0 row2\" >2</th>\n",
       "                        <td id=\"T_bbe58d78_c98d_11eb_a076_acde48001122row2_col0\" class=\"data row2 col0\" >170.405976</td>\n",
       "                        <td id=\"T_bbe58d78_c98d_11eb_a076_acde48001122row2_col1\" class=\"data row2 col1\" >0.001239</td>\n",
       "                        <td id=\"T_bbe58d78_c98d_11eb_a076_acde48001122row2_col2\" class=\"data row2 col2\" >111.855815</td>\n",
       "                        <td id=\"T_bbe58d78_c98d_11eb_a076_acde48001122row2_col3\" class=\"data row2 col3\" >17.306864</td>\n",
       "                        <td id=\"T_bbe58d78_c98d_11eb_a076_acde48001122row2_col4\" class=\"data row2 col4\" >3.766703</td>\n",
       "                        <td id=\"T_bbe58d78_c98d_11eb_a076_acde48001122row2_col5\" class=\"data row2 col5\" >24.516061</td>\n",
       "                        <td id=\"T_bbe58d78_c98d_11eb_a076_acde48001122row2_col6\" class=\"data row2 col6\" >24.104304</td>\n",
       "                        <td id=\"T_bbe58d78_c98d_11eb_a076_acde48001122row2_col7\" class=\"data row2 col7\" >0.000000</td>\n",
       "                        <td id=\"T_bbe58d78_c98d_11eb_a076_acde48001122row2_col8\" class=\"data row2 col8\" >1.000000</td>\n",
       "                        <td id=\"T_bbe58d78_c98d_11eb_a076_acde48001122row2_col9\" class=\"data row2 col9\" >0.620365</td>\n",
       "                        <td id=\"T_bbe58d78_c98d_11eb_a076_acde48001122row2_col10\" class=\"data row2 col10\" >0.000000</td>\n",
       "                        <td id=\"T_bbe58d78_c98d_11eb_a076_acde48001122row2_col11\" class=\"data row2 col11\" >0.000000</td>\n",
       "                        <td id=\"T_bbe58d78_c98d_11eb_a076_acde48001122row2_col12\" class=\"data row2 col12\" >3.941949</td>\n",
       "                        <td id=\"T_bbe58d78_c98d_11eb_a076_acde48001122row2_col13\" class=\"data row2 col13\" >0.000000</td>\n",
       "                        <td id=\"T_bbe58d78_c98d_11eb_a076_acde48001122row2_col14\" class=\"data row2 col14\" >0.733164</td>\n",
       "                        <td id=\"T_bbe58d78_c98d_11eb_a076_acde48001122row2_col15\" class=\"data row2 col15\" >0.433527</td>\n",
       "                        <td id=\"T_bbe58d78_c98d_11eb_a076_acde48001122row2_col16\" class=\"data row2 col16\" >0.334592</td>\n",
       "            </tr>\n",
       "            <tr>\n",
       "                        <th id=\"T_bbe58d78_c98d_11eb_a076_acde48001122level0_row3\" class=\"row_heading level0 row3\" >3</th>\n",
       "                        <td id=\"T_bbe58d78_c98d_11eb_a076_acde48001122row3_col0\" class=\"data row3 col0\" >179.500057</td>\n",
       "                        <td id=\"T_bbe58d78_c98d_11eb_a076_acde48001122row3_col1\" class=\"data row3 col1\" >0.000421</td>\n",
       "                        <td id=\"T_bbe58d78_c98d_11eb_a076_acde48001122row3_col2\" class=\"data row3 col2\" >115.904190</td>\n",
       "                        <td id=\"T_bbe58d78_c98d_11eb_a076_acde48001122row3_col3\" class=\"data row3 col3\" >19.168586</td>\n",
       "                        <td id=\"T_bbe58d78_c98d_11eb_a076_acde48001122row3_col4\" class=\"data row3 col4\" >4.521217</td>\n",
       "                        <td id=\"T_bbe58d78_c98d_11eb_a076_acde48001122row3_col5\" class=\"data row3 col5\" >24.597207</td>\n",
       "                        <td id=\"T_bbe58d78_c98d_11eb_a076_acde48001122row3_col6\" class=\"data row3 col6\" >23.910427</td>\n",
       "                        <td id=\"T_bbe58d78_c98d_11eb_a076_acde48001122row3_col7\" class=\"data row3 col7\" >1.000000</td>\n",
       "                        <td id=\"T_bbe58d78_c98d_11eb_a076_acde48001122row3_col8\" class=\"data row3 col8\" >0.637268</td>\n",
       "                        <td id=\"T_bbe58d78_c98d_11eb_a076_acde48001122row3_col9\" class=\"data row3 col9\" >1.000000</td>\n",
       "                        <td id=\"T_bbe58d78_c98d_11eb_a076_acde48001122row3_col10\" class=\"data row3 col10\" >0.000000</td>\n",
       "                        <td id=\"T_bbe58d78_c98d_11eb_a076_acde48001122row3_col11\" class=\"data row3 col11\" >0.000000</td>\n",
       "                        <td id=\"T_bbe58d78_c98d_11eb_a076_acde48001122row3_col12\" class=\"data row3 col12\" >1.884370</td>\n",
       "                        <td id=\"T_bbe58d78_c98d_11eb_a076_acde48001122row3_col13\" class=\"data row3 col13\" >2.313488</td>\n",
       "                        <td id=\"T_bbe58d78_c98d_11eb_a076_acde48001122row3_col14\" class=\"data row3 col14\" >1.158102</td>\n",
       "                        <td id=\"T_bbe58d78_c98d_11eb_a076_acde48001122row3_col15\" class=\"data row3 col15\" >0.372221</td>\n",
       "                        <td id=\"T_bbe58d78_c98d_11eb_a076_acde48001122row3_col16\" class=\"data row3 col16\" >0.243849</td>\n",
       "            </tr>\n",
       "    </tbody></table>"
      ],
      "text/plain": [
       "<pandas.io.formats.style.Styler at 0x7f85de105090>"
      ]
     },
     "execution_count": 54,
     "metadata": {},
     "output_type": "execute_result"
    }
   ],
   "source": [
    "X.groupby(\"cluster\").mean().style.background_gradient(cmap='Blues')"
   ]
  },
  {
   "cell_type": "code",
   "execution_count": 56,
   "metadata": {},
   "outputs": [],
   "source": [
    "dump(gmm, open('los_merequetenguesC.pk','wb'))"
   ]
  },
  {
   "cell_type": "code",
   "execution_count": 60,
   "metadata": {},
   "outputs": [],
   "source": [
    "cluster_model=load(open('../hello_world/data/models/los_merequetenguesC.pk','rb'))"
   ]
  },
  {
   "cell_type": "code",
   "execution_count": 61,
   "metadata": {},
   "outputs": [
    {
     "data": {
      "text/plain": [
       "array([1, 1, 2, ..., 1, 2, 3])"
      ]
     },
     "execution_count": 61,
     "metadata": {},
     "output_type": "execute_result"
    }
   ],
   "source": [
    "cluster_model.predict(Xs)"
   ]
  },
  {
   "cell_type": "code",
   "execution_count": null,
   "metadata": {},
   "outputs": [],
   "source": []
  }
 ],
 "metadata": {
  "kernelspec": {
   "display_name": "Python 3",
   "language": "python",
   "name": "python3"
  },
  "language_info": {
   "codemirror_mode": {
    "name": "ipython",
    "version": 3
   },
   "file_extension": ".py",
   "mimetype": "text/x-python",
   "name": "python",
   "nbconvert_exporter": "python",
   "pygments_lexer": "ipython3",
   "version": "3.7.9"
  }
 },
 "nbformat": 4,
 "nbformat_minor": 4
}
