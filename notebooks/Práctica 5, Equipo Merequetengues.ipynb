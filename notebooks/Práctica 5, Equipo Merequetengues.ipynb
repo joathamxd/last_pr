{
 "cells": [
  {
   "cell_type": "code",
   "execution_count": 28,
   "metadata": {
    "ExecuteTime": {
     "end_time": "2021-06-06T17:21:54.890020Z",
     "start_time": "2021-06-06T17:21:54.885072Z"
    }
   },
   "outputs": [],
   "source": [
    "from sklearn.model_selection import cross_val_score, train_test_split, GridSearchCV, RandomizedSearchCV\n",
    "from sklearn.feature_extraction.text import CountVectorizer, TfidfVectorizer\n",
    "from sklearn.linear_model import LinearRegression, Lars, ElasticNet, Lasso, Ridge, BayesianRidge\n",
    "from sklearn.preprocessing import MinMaxScaler\n",
    "from sklearn.linear_model import Ridge\n",
    "import cufflinks as cf\n",
    "import pandas as pd\n",
    "import numpy as np\n",
    "import emoji\n",
    "import re\n",
    "from wordcloud import WordCloud, STOPWORDS\n",
    "import nltk\n",
    "import matplotlib.pyplot as plt\n",
    "import matplotlib\n",
    "import emoji\n",
    "import re\n",
    "import re, unicodedata\n",
    "from pandas import DataFrame\n",
    "from nltk.corpus import stopwords\n",
    "from sklearn.linear_model import LogisticRegression\n",
    "from pickle import dump, load"
   ]
  },
  {
   "cell_type": "code",
   "execution_count": 2,
   "metadata": {
    "ExecuteTime": {
     "end_time": "2021-06-06T17:04:01.978622Z",
     "start_time": "2021-06-06T17:04:01.146332Z"
    }
   },
   "outputs": [],
   "source": [
    "data= pd.read_csv('/home/bluestrk/Documentos/data_science/module_five/last_pr/betsentiment-ES-tweets-sentiment-teams.csv', encoding='latin1')"
   ]
  },
  {
   "cell_type": "code",
   "execution_count": 3,
   "metadata": {
    "ExecuteTime": {
     "end_time": "2021-06-06T17:04:02.003696Z",
     "start_time": "2021-06-06T17:04:01.979887Z"
    }
   },
   "outputs": [],
   "source": [
    "data.drop(['tweet_date_created','language', 'tweet_id', 'sentiment_score'], axis=1, inplace=True)"
   ]
  },
  {
   "cell_type": "code",
   "execution_count": 4,
   "metadata": {
    "ExecuteTime": {
     "end_time": "2021-06-06T17:04:02.016997Z",
     "start_time": "2021-06-06T17:04:02.004830Z"
    }
   },
   "outputs": [],
   "source": [
    "import sys\n",
    "sys.path.append(\"../\")\n",
    "from hello_world.tweet_evaluator import Process"
   ]
  },
  {
   "cell_type": "code",
   "execution_count": 5,
   "metadata": {
    "ExecuteTime": {
     "end_time": "2021-06-06T17:06:10.480224Z",
     "start_time": "2021-06-06T17:04:02.018180Z"
    }
   },
   "outputs": [],
   "source": [
    "pr = Process(data, \"../hello_world/\")\n",
    "pr.run()"
   ]
  },
  {
   "cell_type": "code",
   "execution_count": 6,
   "metadata": {
    "ExecuteTime": {
     "end_time": "2021-06-06T17:06:10.483958Z",
     "start_time": "2021-06-06T17:06:10.481925Z"
    }
   },
   "outputs": [],
   "source": [
    "features = [\n",
    "    'tweet_mensaje',\n",
    "    'n_emojis', 'n_lower', 'n_upper',\n",
    "    'n_digit', 'n_whitespaces', 'n_words', 'has_tags', 'has_hashtag',\n",
    "    'has_urls', 'n_exclamation', 'n_question', 'n_hashtag', 'n_tags',\n",
    "    'n_urls', 'count_personal_positive',\n",
    "    'count_personal_negative'\n",
    "]"
   ]
  },
  {
   "cell_type": "code",
   "execution_count": 7,
   "metadata": {
    "ExecuteTime": {
     "end_time": "2021-06-06T17:06:10.490841Z",
     "start_time": "2021-06-06T17:06:10.485206Z"
    }
   },
   "outputs": [],
   "source": [
    "# vect = CountVectorizer(stop_words=stopwords.words(\"spanish\"), ngram_range=(1, 1), min_df=1, max_features=100)"
   ]
  },
  {
   "cell_type": "code",
   "execution_count": 8,
   "metadata": {
    "ExecuteTime": {
     "end_time": "2021-06-06T17:06:10.495527Z",
     "start_time": "2021-06-06T17:06:10.492057Z"
    }
   },
   "outputs": [],
   "source": [
    "# vect.fit(data[\"tweet_clean\"])"
   ]
  },
  {
   "cell_type": "code",
   "execution_count": 9,
   "metadata": {
    "ExecuteTime": {
     "end_time": "2021-06-06T17:06:10.530756Z",
     "start_time": "2021-06-06T17:06:10.496678Z"
    }
   },
   "outputs": [],
   "source": [
    "X=pr.data[features]\n",
    "y=pr.data[\"sentiment\"]"
   ]
  },
  {
   "cell_type": "code",
   "execution_count": 10,
   "metadata": {
    "ExecuteTime": {
     "end_time": "2021-06-06T17:06:10.558666Z",
     "start_time": "2021-06-06T17:06:10.531895Z"
    }
   },
   "outputs": [],
   "source": [
    "mm_x = MinMaxScaler()\n",
    "Xs = mm_x.fit_transform(X)"
   ]
  },
  {
   "cell_type": "code",
   "execution_count": 11,
   "metadata": {
    "ExecuteTime": {
     "end_time": "2021-06-06T17:06:10.588955Z",
     "start_time": "2021-06-06T17:06:10.559997Z"
    }
   },
   "outputs": [],
   "source": [
    "X_train, X_test, y_train, y_test = train_test_split(Xs, y)"
   ]
  },
  {
   "cell_type": "code",
   "execution_count": 12,
   "metadata": {
    "ExecuteTime": {
     "end_time": "2021-06-06T17:06:10.592229Z",
     "start_time": "2021-06-06T17:06:10.590134Z"
    }
   },
   "outputs": [],
   "source": [
    "logreg = LogisticRegression(max_iter=1000, multi_class=\"multinomial\")"
   ]
  },
  {
   "cell_type": "code",
   "execution_count": 13,
   "metadata": {
    "ExecuteTime": {
     "end_time": "2021-06-06T17:06:25.908787Z",
     "start_time": "2021-06-06T17:06:10.593326Z"
    }
   },
   "outputs": [
    {
     "data": {
      "text/plain": [
       "LogisticRegression(max_iter=1000, multi_class='multinomial')"
      ]
     },
     "execution_count": 13,
     "metadata": {},
     "output_type": "execute_result"
    }
   ],
   "source": [
    "logreg.fit(X_train, y_train)"
   ]
  },
  {
   "cell_type": "code",
   "execution_count": 14,
   "metadata": {
    "ExecuteTime": {
     "end_time": "2021-06-06T17:06:25.988804Z",
     "start_time": "2021-06-06T17:06:25.910937Z"
    }
   },
   "outputs": [
    {
     "data": {
      "text/plain": [
       "0.8470325828133948"
      ]
     },
     "execution_count": 14,
     "metadata": {},
     "output_type": "execute_result"
    }
   ],
   "source": [
    "logreg.score(X_test, y_test)"
   ]
  },
  {
   "cell_type": "code",
   "execution_count": null,
   "metadata": {},
   "outputs": [],
   "source": [
    "ls_scores = cross_val_score(logreg, X_train, y_train, cv=4, n_jobs=-1)\n",
    "np.mean(ls_scores), np.std(ls_scores)"
   ]
  },
  {
   "cell_type": "code",
   "execution_count": 15,
   "metadata": {
    "ExecuteTime": {
     "end_time": "2021-06-06T17:06:25.999701Z",
     "start_time": "2021-06-06T17:06:25.990417Z"
    }
   },
   "outputs": [
    {
     "data": {
      "text/plain": [
       "array(['NEUTRAL', 'NEUTRAL', 'NEUTRAL', ..., 'NEUTRAL', 'NEUTRAL',\n",
       "       'NEUTRAL'], dtype=object)"
      ]
     },
     "execution_count": 15,
     "metadata": {},
     "output_type": "execute_result"
    }
   ],
   "source": [
    "logreg.predict(X_test)"
   ]
  },
  {
   "cell_type": "code",
   "execution_count": 16,
   "metadata": {
    "ExecuteTime": {
     "end_time": "2021-06-06T17:06:26.029621Z",
     "start_time": "2021-06-06T17:06:26.001751Z"
    }
   },
   "outputs": [
    {
     "data": {
      "text/html": [
       "<div>\n",
       "<style scoped>\n",
       "    .dataframe tbody tr th:only-of-type {\n",
       "        vertical-align: middle;\n",
       "    }\n",
       "\n",
       "    .dataframe tbody tr th {\n",
       "        vertical-align: top;\n",
       "    }\n",
       "\n",
       "    .dataframe thead th {\n",
       "        text-align: right;\n",
       "    }\n",
       "</style>\n",
       "<table border=\"1\" class=\"dataframe\">\n",
       "  <thead>\n",
       "    <tr style=\"text-align: right;\">\n",
       "      <th></th>\n",
       "      <th>0</th>\n",
       "      <th>1</th>\n",
       "      <th>2</th>\n",
       "      <th>3</th>\n",
       "    </tr>\n",
       "  </thead>\n",
       "  <tbody>\n",
       "    <tr>\n",
       "      <th>0</th>\n",
       "      <td>0.000656</td>\n",
       "      <td>0.014152</td>\n",
       "      <td>0.977352</td>\n",
       "      <td>0.007840</td>\n",
       "    </tr>\n",
       "    <tr>\n",
       "      <th>1</th>\n",
       "      <td>0.001449</td>\n",
       "      <td>0.035667</td>\n",
       "      <td>0.915102</td>\n",
       "      <td>0.047783</td>\n",
       "    </tr>\n",
       "    <tr>\n",
       "      <th>2</th>\n",
       "      <td>0.003076</td>\n",
       "      <td>0.154597</td>\n",
       "      <td>0.788659</td>\n",
       "      <td>0.053668</td>\n",
       "    </tr>\n",
       "    <tr>\n",
       "      <th>3</th>\n",
       "      <td>0.000802</td>\n",
       "      <td>0.011379</td>\n",
       "      <td>0.818374</td>\n",
       "      <td>0.169445</td>\n",
       "    </tr>\n",
       "    <tr>\n",
       "      <th>4</th>\n",
       "      <td>0.008323</td>\n",
       "      <td>0.030614</td>\n",
       "      <td>0.590797</td>\n",
       "      <td>0.370267</td>\n",
       "    </tr>\n",
       "    <tr>\n",
       "      <th>...</th>\n",
       "      <td>...</td>\n",
       "      <td>...</td>\n",
       "      <td>...</td>\n",
       "      <td>...</td>\n",
       "    </tr>\n",
       "    <tr>\n",
       "      <th>33172</th>\n",
       "      <td>0.001025</td>\n",
       "      <td>0.031245</td>\n",
       "      <td>0.902615</td>\n",
       "      <td>0.065115</td>\n",
       "    </tr>\n",
       "    <tr>\n",
       "      <th>33173</th>\n",
       "      <td>0.000185</td>\n",
       "      <td>0.008735</td>\n",
       "      <td>0.967342</td>\n",
       "      <td>0.023738</td>\n",
       "    </tr>\n",
       "    <tr>\n",
       "      <th>33174</th>\n",
       "      <td>0.005695</td>\n",
       "      <td>0.219271</td>\n",
       "      <td>0.715063</td>\n",
       "      <td>0.059971</td>\n",
       "    </tr>\n",
       "    <tr>\n",
       "      <th>33175</th>\n",
       "      <td>0.000114</td>\n",
       "      <td>0.002456</td>\n",
       "      <td>0.996013</td>\n",
       "      <td>0.001417</td>\n",
       "    </tr>\n",
       "    <tr>\n",
       "      <th>33176</th>\n",
       "      <td>0.000555</td>\n",
       "      <td>0.023431</td>\n",
       "      <td>0.940424</td>\n",
       "      <td>0.035591</td>\n",
       "    </tr>\n",
       "  </tbody>\n",
       "</table>\n",
       "<p>33177 rows × 4 columns</p>\n",
       "</div>"
      ],
      "text/plain": [
       "              0         1         2         3\n",
       "0      0.000656  0.014152  0.977352  0.007840\n",
       "1      0.001449  0.035667  0.915102  0.047783\n",
       "2      0.003076  0.154597  0.788659  0.053668\n",
       "3      0.000802  0.011379  0.818374  0.169445\n",
       "4      0.008323  0.030614  0.590797  0.370267\n",
       "...         ...       ...       ...       ...\n",
       "33172  0.001025  0.031245  0.902615  0.065115\n",
       "33173  0.000185  0.008735  0.967342  0.023738\n",
       "33174  0.005695  0.219271  0.715063  0.059971\n",
       "33175  0.000114  0.002456  0.996013  0.001417\n",
       "33176  0.000555  0.023431  0.940424  0.035591\n",
       "\n",
       "[33177 rows x 4 columns]"
      ]
     },
     "execution_count": 16,
     "metadata": {},
     "output_type": "execute_result"
    }
   ],
   "source": [
    "pd.DataFrame(logreg.predict_proba(X_test))"
   ]
  },
  {
   "cell_type": "code",
   "execution_count": 17,
   "metadata": {
    "ExecuteTime": {
     "end_time": "2021-06-06T17:06:26.036694Z",
     "start_time": "2021-06-06T17:06:26.032044Z"
    }
   },
   "outputs": [
    {
     "data": {
      "text/plain": [
       "array(['MIXED', 'NEGATIVE', 'NEUTRAL', 'POSITIVE'], dtype=object)"
      ]
     },
     "execution_count": 17,
     "metadata": {},
     "output_type": "execute_result"
    }
   ],
   "source": [
    "logreg.classes_"
   ]
  },
  {
   "cell_type": "code",
   "execution_count": 26,
   "metadata": {
    "ExecuteTime": {
     "end_time": "2021-06-06T17:19:49.678652Z",
     "start_time": "2021-06-06T17:19:49.675725Z"
    }
   },
   "outputs": [],
   "source": [
    "dump(logreg, open(\"los_merequetengues.pk\", 'wb'))"
   ]
  },
  {
   "cell_type": "code",
   "execution_count": 29,
   "metadata": {
    "ExecuteTime": {
     "end_time": "2021-06-06T17:21:58.745792Z",
     "start_time": "2021-06-06T17:21:58.705886Z"
    }
   },
   "outputs": [
    {
     "name": "stdout",
     "output_type": "stream",
     "text": [
      "0.8470325828133948\n"
     ]
    }
   ],
   "source": [
    "loaded_model = load(open(\"../hello_world/data/models/los_merequetengues.pk\", 'rb'))\n",
    "result = loaded_model.score(X_test, y_test)\n",
    "print(result)"
   ]
  },
  {
   "cell_type": "code",
   "execution_count": 49,
   "metadata": {
    "ExecuteTime": {
     "end_time": "2021-06-06T17:40:55.774844Z",
     "start_time": "2021-06-06T17:40:55.771510Z"
    }
   },
   "outputs": [],
   "source": [
    "def get_trained_model(data):\n",
    "    model = load(open(\"../hello_world/data/models/los_merequetengues.pk\", 'rb'))\n",
    "    predict = model.predict(data)\n",
    "    proba = model.predict_proba(data)\n",
    "    clases = model.classes_\n",
    "    return predict, proba, clases"
   ]
  },
  {
   "cell_type": "code",
   "execution_count": 64,
   "metadata": {
    "ExecuteTime": {
     "end_time": "2021-06-06T23:54:59.894384Z",
     "start_time": "2021-06-06T23:54:59.891960Z"
    }
   },
   "outputs": [],
   "source": [
    "sample = [X_test]"
   ]
  },
  {
   "cell_type": "code",
   "execution_count": 69,
   "metadata": {
    "ExecuteTime": {
     "end_time": "2021-06-06T23:56:02.104619Z",
     "start_time": "2021-06-06T23:56:02.097646Z"
    }
   },
   "outputs": [
    {
     "data": {
      "text/plain": [
       "array(['NEUTRAL', 'NEUTRAL', 'NEUTRAL', ..., 'NEUTRAL', 'NEUTRAL',\n",
       "       'NEUTRAL'], dtype=object)"
      ]
     },
     "execution_count": 69,
     "metadata": {},
     "output_type": "execute_result"
    }
   ],
   "source": [
    "loaded_model.predict(X_test)"
   ]
  },
  {
   "cell_type": "code",
   "execution_count": 65,
   "metadata": {
    "ExecuteTime": {
     "end_time": "2021-06-06T23:55:00.568451Z",
     "start_time": "2021-06-06T23:55:00.550810Z"
    }
   },
   "outputs": [
    {
     "ename": "ValueError",
     "evalue": "Found array with dim 3. Estimator expected <= 2.",
     "output_type": "error",
     "traceback": [
      "\u001b[0;31m---------------------------------------------------------------------------\u001b[0m",
      "\u001b[0;31mValueError\u001b[0m                                Traceback (most recent call last)",
      "\u001b[0;32m<ipython-input-65-08bff2e65c1d>\u001b[0m in \u001b[0;36m<module>\u001b[0;34m\u001b[0m\n\u001b[0;32m----> 1\u001b[0;31m \u001b[0mpredict\u001b[0m\u001b[0;34m,\u001b[0m \u001b[0mproba\u001b[0m\u001b[0;34m,\u001b[0m \u001b[0mcl\u001b[0m \u001b[0;34m=\u001b[0m \u001b[0mget_trained_model\u001b[0m\u001b[0;34m(\u001b[0m\u001b[0msample\u001b[0m\u001b[0;34m)\u001b[0m\u001b[0;34m\u001b[0m\u001b[0;34m\u001b[0m\u001b[0m\n\u001b[0m",
      "\u001b[0;32m<ipython-input-49-7011e2d41a9c>\u001b[0m in \u001b[0;36mget_trained_model\u001b[0;34m(data)\u001b[0m\n\u001b[1;32m      1\u001b[0m \u001b[0;32mdef\u001b[0m \u001b[0mget_trained_model\u001b[0m\u001b[0;34m(\u001b[0m\u001b[0mdata\u001b[0m\u001b[0;34m)\u001b[0m\u001b[0;34m:\u001b[0m\u001b[0;34m\u001b[0m\u001b[0;34m\u001b[0m\u001b[0m\n\u001b[1;32m      2\u001b[0m     \u001b[0mmodel\u001b[0m \u001b[0;34m=\u001b[0m \u001b[0mload\u001b[0m\u001b[0;34m(\u001b[0m\u001b[0mopen\u001b[0m\u001b[0;34m(\u001b[0m\u001b[0;34m\"../hello_world/data/models/los_merequetengues.pk\"\u001b[0m\u001b[0;34m,\u001b[0m \u001b[0;34m'rb'\u001b[0m\u001b[0;34m)\u001b[0m\u001b[0;34m)\u001b[0m\u001b[0;34m\u001b[0m\u001b[0;34m\u001b[0m\u001b[0m\n\u001b[0;32m----> 3\u001b[0;31m     \u001b[0mpredict\u001b[0m \u001b[0;34m=\u001b[0m \u001b[0mmodel\u001b[0m\u001b[0;34m.\u001b[0m\u001b[0mpredict\u001b[0m\u001b[0;34m(\u001b[0m\u001b[0mdata\u001b[0m\u001b[0;34m)\u001b[0m\u001b[0;34m\u001b[0m\u001b[0;34m\u001b[0m\u001b[0m\n\u001b[0m\u001b[1;32m      4\u001b[0m     \u001b[0mproba\u001b[0m \u001b[0;34m=\u001b[0m \u001b[0mmodel\u001b[0m\u001b[0;34m.\u001b[0m\u001b[0mpredict_proba\u001b[0m\u001b[0;34m(\u001b[0m\u001b[0mdata\u001b[0m\u001b[0;34m)\u001b[0m\u001b[0;34m\u001b[0m\u001b[0;34m\u001b[0m\u001b[0m\n\u001b[1;32m      5\u001b[0m     \u001b[0mclases\u001b[0m \u001b[0;34m=\u001b[0m \u001b[0mmodel\u001b[0m\u001b[0;34m.\u001b[0m\u001b[0mclasses_\u001b[0m\u001b[0;34m\u001b[0m\u001b[0;34m\u001b[0m\u001b[0m\n",
      "\u001b[0;32m~/Documentos/data_science/venv/lib/python3.8/site-packages/sklearn/linear_model/_base.py\u001b[0m in \u001b[0;36mpredict\u001b[0;34m(self, X)\u001b[0m\n\u001b[1;32m    307\u001b[0m             \u001b[0mPredicted\u001b[0m \u001b[0;32mclass\u001b[0m \u001b[0mlabel\u001b[0m \u001b[0mper\u001b[0m \u001b[0msample\u001b[0m\u001b[0;34m.\u001b[0m\u001b[0;34m\u001b[0m\u001b[0;34m\u001b[0m\u001b[0m\n\u001b[1;32m    308\u001b[0m         \"\"\"\n\u001b[0;32m--> 309\u001b[0;31m         \u001b[0mscores\u001b[0m \u001b[0;34m=\u001b[0m \u001b[0mself\u001b[0m\u001b[0;34m.\u001b[0m\u001b[0mdecision_function\u001b[0m\u001b[0;34m(\u001b[0m\u001b[0mX\u001b[0m\u001b[0;34m)\u001b[0m\u001b[0;34m\u001b[0m\u001b[0;34m\u001b[0m\u001b[0m\n\u001b[0m\u001b[1;32m    310\u001b[0m         \u001b[0;32mif\u001b[0m \u001b[0mlen\u001b[0m\u001b[0;34m(\u001b[0m\u001b[0mscores\u001b[0m\u001b[0;34m.\u001b[0m\u001b[0mshape\u001b[0m\u001b[0;34m)\u001b[0m \u001b[0;34m==\u001b[0m \u001b[0;36m1\u001b[0m\u001b[0;34m:\u001b[0m\u001b[0;34m\u001b[0m\u001b[0;34m\u001b[0m\u001b[0m\n\u001b[1;32m    311\u001b[0m             \u001b[0mindices\u001b[0m \u001b[0;34m=\u001b[0m \u001b[0;34m(\u001b[0m\u001b[0mscores\u001b[0m \u001b[0;34m>\u001b[0m \u001b[0;36m0\u001b[0m\u001b[0;34m)\u001b[0m\u001b[0;34m.\u001b[0m\u001b[0mastype\u001b[0m\u001b[0;34m(\u001b[0m\u001b[0mint\u001b[0m\u001b[0;34m)\u001b[0m\u001b[0;34m\u001b[0m\u001b[0;34m\u001b[0m\u001b[0m\n",
      "\u001b[0;32m~/Documentos/data_science/venv/lib/python3.8/site-packages/sklearn/linear_model/_base.py\u001b[0m in \u001b[0;36mdecision_function\u001b[0;34m(self, X)\u001b[0m\n\u001b[1;32m    282\u001b[0m         \u001b[0mcheck_is_fitted\u001b[0m\u001b[0;34m(\u001b[0m\u001b[0mself\u001b[0m\u001b[0;34m)\u001b[0m\u001b[0;34m\u001b[0m\u001b[0;34m\u001b[0m\u001b[0m\n\u001b[1;32m    283\u001b[0m \u001b[0;34m\u001b[0m\u001b[0m\n\u001b[0;32m--> 284\u001b[0;31m         \u001b[0mX\u001b[0m \u001b[0;34m=\u001b[0m \u001b[0mcheck_array\u001b[0m\u001b[0;34m(\u001b[0m\u001b[0mX\u001b[0m\u001b[0;34m,\u001b[0m \u001b[0maccept_sparse\u001b[0m\u001b[0;34m=\u001b[0m\u001b[0;34m'csr'\u001b[0m\u001b[0;34m)\u001b[0m\u001b[0;34m\u001b[0m\u001b[0;34m\u001b[0m\u001b[0m\n\u001b[0m\u001b[1;32m    285\u001b[0m \u001b[0;34m\u001b[0m\u001b[0m\n\u001b[1;32m    286\u001b[0m         \u001b[0mn_features\u001b[0m \u001b[0;34m=\u001b[0m \u001b[0mself\u001b[0m\u001b[0;34m.\u001b[0m\u001b[0mcoef_\u001b[0m\u001b[0;34m.\u001b[0m\u001b[0mshape\u001b[0m\u001b[0;34m[\u001b[0m\u001b[0;36m1\u001b[0m\u001b[0;34m]\u001b[0m\u001b[0;34m\u001b[0m\u001b[0;34m\u001b[0m\u001b[0m\n",
      "\u001b[0;32m~/Documentos/data_science/venv/lib/python3.8/site-packages/sklearn/utils/validation.py\u001b[0m in \u001b[0;36minner_f\u001b[0;34m(*args, **kwargs)\u001b[0m\n\u001b[1;32m     61\u001b[0m             \u001b[0mextra_args\u001b[0m \u001b[0;34m=\u001b[0m \u001b[0mlen\u001b[0m\u001b[0;34m(\u001b[0m\u001b[0margs\u001b[0m\u001b[0;34m)\u001b[0m \u001b[0;34m-\u001b[0m \u001b[0mlen\u001b[0m\u001b[0;34m(\u001b[0m\u001b[0mall_args\u001b[0m\u001b[0;34m)\u001b[0m\u001b[0;34m\u001b[0m\u001b[0;34m\u001b[0m\u001b[0m\n\u001b[1;32m     62\u001b[0m             \u001b[0;32mif\u001b[0m \u001b[0mextra_args\u001b[0m \u001b[0;34m<=\u001b[0m \u001b[0;36m0\u001b[0m\u001b[0;34m:\u001b[0m\u001b[0;34m\u001b[0m\u001b[0;34m\u001b[0m\u001b[0m\n\u001b[0;32m---> 63\u001b[0;31m                 \u001b[0;32mreturn\u001b[0m \u001b[0mf\u001b[0m\u001b[0;34m(\u001b[0m\u001b[0;34m*\u001b[0m\u001b[0margs\u001b[0m\u001b[0;34m,\u001b[0m \u001b[0;34m**\u001b[0m\u001b[0mkwargs\u001b[0m\u001b[0;34m)\u001b[0m\u001b[0;34m\u001b[0m\u001b[0;34m\u001b[0m\u001b[0m\n\u001b[0m\u001b[1;32m     64\u001b[0m \u001b[0;34m\u001b[0m\u001b[0m\n\u001b[1;32m     65\u001b[0m             \u001b[0;31m# extra_args > 0\u001b[0m\u001b[0;34m\u001b[0m\u001b[0;34m\u001b[0m\u001b[0;34m\u001b[0m\u001b[0m\n",
      "\u001b[0;32m~/Documentos/data_science/venv/lib/python3.8/site-packages/sklearn/utils/validation.py\u001b[0m in \u001b[0;36mcheck_array\u001b[0;34m(array, accept_sparse, accept_large_sparse, dtype, order, copy, force_all_finite, ensure_2d, allow_nd, ensure_min_samples, ensure_min_features, estimator)\u001b[0m\n\u001b[1;32m    714\u001b[0m                     \"into decimal numbers with dtype='numeric'\") from e\n\u001b[1;32m    715\u001b[0m         \u001b[0;32mif\u001b[0m \u001b[0;32mnot\u001b[0m \u001b[0mallow_nd\u001b[0m \u001b[0;32mand\u001b[0m \u001b[0marray\u001b[0m\u001b[0;34m.\u001b[0m\u001b[0mndim\u001b[0m \u001b[0;34m>=\u001b[0m \u001b[0;36m3\u001b[0m\u001b[0;34m:\u001b[0m\u001b[0;34m\u001b[0m\u001b[0;34m\u001b[0m\u001b[0m\n\u001b[0;32m--> 716\u001b[0;31m             raise ValueError(\"Found array with dim %d. %s expected <= 2.\"\n\u001b[0m\u001b[1;32m    717\u001b[0m                              % (array.ndim, estimator_name))\n\u001b[1;32m    718\u001b[0m \u001b[0;34m\u001b[0m\u001b[0m\n",
      "\u001b[0;31mValueError\u001b[0m: Found array with dim 3. Estimator expected <= 2."
     ]
    }
   ],
   "source": [
    "predict, proba, cl = get_trained_model(sample)"
   ]
  },
  {
   "cell_type": "code",
   "execution_count": 63,
   "metadata": {
    "ExecuteTime": {
     "end_time": "2021-06-06T23:54:33.217743Z",
     "start_time": "2021-06-06T23:54:33.215127Z"
    }
   },
   "outputs": [
    {
     "data": {
      "text/plain": [
       "array(['NEUTRAL'], dtype=object)"
      ]
     },
     "execution_count": 63,
     "metadata": {},
     "output_type": "execute_result"
    }
   ],
   "source": [
    "predict"
   ]
  },
  {
   "cell_type": "code",
   "execution_count": 56,
   "metadata": {
    "ExecuteTime": {
     "end_time": "2021-06-06T18:05:09.398350Z",
     "start_time": "2021-06-06T18:05:09.394721Z"
    }
   },
   "outputs": [
    {
     "data": {
      "text/plain": [
       "0.0006558481909122644"
      ]
     },
     "execution_count": 56,
     "metadata": {},
     "output_type": "execute_result"
    }
   ],
   "source": [
    "proba[0][0]"
   ]
  },
  {
   "cell_type": "code",
   "execution_count": 54,
   "metadata": {
    "ExecuteTime": {
     "end_time": "2021-06-06T17:41:06.383124Z",
     "start_time": "2021-06-06T17:41:06.379123Z"
    }
   },
   "outputs": [
    {
     "data": {
      "text/plain": [
       "array(['MIXED', 'NEGATIVE', 'NEUTRAL', 'POSITIVE'], dtype=object)"
      ]
     },
     "execution_count": 54,
     "metadata": {},
     "output_type": "execute_result"
    }
   ],
   "source": [
    "cl"
   ]
  },
  {
   "cell_type": "code",
   "execution_count": 60,
   "metadata": {
    "ExecuteTime": {
     "end_time": "2021-06-06T23:50:57.365791Z",
     "start_time": "2021-06-06T23:50:57.363408Z"
    }
   },
   "outputs": [],
   "source": [
    "pd.set_option('display.max_colwidth', None)"
   ]
  },
  {
   "cell_type": "code",
   "execution_count": 62,
   "metadata": {
    "ExecuteTime": {
     "end_time": "2021-06-06T23:52:14.582097Z",
     "start_time": "2021-06-06T23:52:14.551820Z"
    }
   },
   "outputs": [
    {
     "data": {
      "text/html": [
       "<div>\n",
       "<style scoped>\n",
       "    .dataframe tbody tr th:only-of-type {\n",
       "        vertical-align: middle;\n",
       "    }\n",
       "\n",
       "    .dataframe tbody tr th {\n",
       "        vertical-align: top;\n",
       "    }\n",
       "\n",
       "    .dataframe thead th {\n",
       "        text-align: right;\n",
       "    }\n",
       "</style>\n",
       "<table border=\"1\" class=\"dataframe\">\n",
       "  <thead>\n",
       "    <tr style=\"text-align: right;\">\n",
       "      <th></th>\n",
       "      <th>tweet_text</th>\n",
       "      <th>sentiment</th>\n",
       "      <th>tweet_mensaje</th>\n",
       "      <th>n_emojis</th>\n",
       "      <th>n_lower</th>\n",
       "      <th>n_upper</th>\n",
       "      <th>n_digit</th>\n",
       "      <th>n_whitespaces</th>\n",
       "      <th>n_words</th>\n",
       "      <th>has_tags</th>\n",
       "      <th>has_hashtag</th>\n",
       "      <th>has_urls</th>\n",
       "      <th>n_exclamation</th>\n",
       "      <th>n_question</th>\n",
       "      <th>n_hashtag</th>\n",
       "      <th>n_tags</th>\n",
       "      <th>n_urls</th>\n",
       "      <th>tweet_clean</th>\n",
       "      <th>count_personal_positive</th>\n",
       "      <th>count_personal_negative</th>\n",
       "    </tr>\n",
       "  </thead>\n",
       "  <tbody>\n",
       "    <tr>\n",
       "      <th>0</th>\n",
       "      <td>Alisson puede estar más tranquilo, no cargará con el peso de ser el arquero mas caro de la historia. Si es que eso le pesaba en algo. Gracias @ChelseaFC</td>\n",
       "      <td>POSITIVE</td>\n",
       "      <td>152</td>\n",
       "      <td>0</td>\n",
       "      <td>114</td>\n",
       "      <td>6</td>\n",
       "      <td>0</td>\n",
       "      <td>28</td>\n",
       "      <td>29</td>\n",
       "      <td>1</td>\n",
       "      <td>0</td>\n",
       "      <td>0</td>\n",
       "      <td>0</td>\n",
       "      <td>0</td>\n",
       "      <td>0</td>\n",
       "      <td>1</td>\n",
       "      <td>0</td>\n",
       "      <td>alisson puede estar mas tranquilo no cargara con el peso de ser el arquero mas caro de la historia si es que eso le pesaba en algo gracias</td>\n",
       "      <td>1</td>\n",
       "      <td>2</td>\n",
       "    </tr>\n",
       "    <tr>\n",
       "      <th>17</th>\n",
       "      <td>Precioso el estadio Olímpico de Londres, casa de los Hammers @WestHamUtd https://t.co/hSEM6tkCdt</td>\n",
       "      <td>POSITIVE</td>\n",
       "      <td>96</td>\n",
       "      <td>0</td>\n",
       "      <td>66</td>\n",
       "      <td>11</td>\n",
       "      <td>1</td>\n",
       "      <td>11</td>\n",
       "      <td>12</td>\n",
       "      <td>1</td>\n",
       "      <td>0</td>\n",
       "      <td>1</td>\n",
       "      <td>0</td>\n",
       "      <td>0</td>\n",
       "      <td>0</td>\n",
       "      <td>1</td>\n",
       "      <td>1</td>\n",
       "      <td>precioso el estadio olimpico de londres casa de los hammers</td>\n",
       "      <td>1</td>\n",
       "      <td>0</td>\n",
       "    </tr>\n",
       "    <tr>\n",
       "      <th>27</th>\n",
       "      <td>Hoy se vera si vamos por buen camino, faltan muchos jugadores, vamos con todo #Chelsea \\n\\n#CFCes #CommunityShield ??</td>\n",
       "      <td>POSITIVE</td>\n",
       "      <td>115</td>\n",
       "      <td>0</td>\n",
       "      <td>82</td>\n",
       "      <td>7</td>\n",
       "      <td>0</td>\n",
       "      <td>19</td>\n",
       "      <td>18</td>\n",
       "      <td>0</td>\n",
       "      <td>1</td>\n",
       "      <td>0</td>\n",
       "      <td>0</td>\n",
       "      <td>0</td>\n",
       "      <td>3</td>\n",
       "      <td>0</td>\n",
       "      <td>0</td>\n",
       "      <td>hoy se vera si vamos por buen camino faltan muchos jugadores vamos con todo chelsea cfces communityshield</td>\n",
       "      <td>0</td>\n",
       "      <td>0</td>\n",
       "    </tr>\n",
       "    <tr>\n",
       "      <th>33</th>\n",
       "      <td>En estas épocas en que Union me hace doler el corazón, el Liverpool me recuerda que el futbol es hermoso.\\n\\nNo son ni comparables los sentimientos, pero así todo, sigo alegrandome por cada gol Red.\\n\\nYou Never Walk Alone #YNWA https://t.co/aw6n3L7OqK</td>\n",
       "      <td>POSITIVE</td>\n",
       "      <td>248</td>\n",
       "      <td>0</td>\n",
       "      <td>176</td>\n",
       "      <td>16</td>\n",
       "      <td>3</td>\n",
       "      <td>42</td>\n",
       "      <td>39</td>\n",
       "      <td>0</td>\n",
       "      <td>1</td>\n",
       "      <td>1</td>\n",
       "      <td>0</td>\n",
       "      <td>0</td>\n",
       "      <td>1</td>\n",
       "      <td>0</td>\n",
       "      <td>1</td>\n",
       "      <td>en estas epocas en que union me hace doler el corazon el liverpool me recuerda que el futbol es hermoso no son ni comparables los sentimientos pero asi todo sigo alegrandome por cada gol red you never walk alone ynwa</td>\n",
       "      <td>1</td>\n",
       "      <td>1</td>\n",
       "    </tr>\n",
       "    <tr>\n",
       "      <th>35</th>\n",
       "      <td>@WestHamUtd @JackWilshere @F_Andersoon @Ing_Pellegrini Buen futuro con Felipe</td>\n",
       "      <td>POSITIVE</td>\n",
       "      <td>77</td>\n",
       "      <td>0</td>\n",
       "      <td>53</td>\n",
       "      <td>11</td>\n",
       "      <td>0</td>\n",
       "      <td>7</td>\n",
       "      <td>8</td>\n",
       "      <td>1</td>\n",
       "      <td>0</td>\n",
       "      <td>0</td>\n",
       "      <td>0</td>\n",
       "      <td>0</td>\n",
       "      <td>0</td>\n",
       "      <td>4</td>\n",
       "      <td>0</td>\n",
       "      <td>andersoon pellegrini buen futuro con felipe</td>\n",
       "      <td>0</td>\n",
       "      <td>0</td>\n",
       "    </tr>\n",
       "    <tr>\n",
       "      <th>...</th>\n",
       "      <td>...</td>\n",
       "      <td>...</td>\n",
       "      <td>...</td>\n",
       "      <td>...</td>\n",
       "      <td>...</td>\n",
       "      <td>...</td>\n",
       "      <td>...</td>\n",
       "      <td>...</td>\n",
       "      <td>...</td>\n",
       "      <td>...</td>\n",
       "      <td>...</td>\n",
       "      <td>...</td>\n",
       "      <td>...</td>\n",
       "      <td>...</td>\n",
       "      <td>...</td>\n",
       "      <td>...</td>\n",
       "      <td>...</td>\n",
       "      <td>...</td>\n",
       "      <td>...</td>\n",
       "      <td>...</td>\n",
       "    </tr>\n",
       "    <tr>\n",
       "      <th>132668</th>\n",
       "      <td>Feliz aniversario a los Hermanos de ZR23, son 8 años de awante y esperamos que sean muchos mas un abrazo de gol a toda su gente!!\\n\\n#ZR23 #CaracasFC #Venezuela #DaleRo #23deEnero #LDR #Ocho #CFC https://t.co/dYVGx926Vc</td>\n",
       "      <td>POSITIVE</td>\n",
       "      <td>217</td>\n",
       "      <td>0</td>\n",
       "      <td>132</td>\n",
       "      <td>24</td>\n",
       "      <td>10</td>\n",
       "      <td>35</td>\n",
       "      <td>34</td>\n",
       "      <td>0</td>\n",
       "      <td>1</td>\n",
       "      <td>1</td>\n",
       "      <td>1</td>\n",
       "      <td>1</td>\n",
       "      <td>8</td>\n",
       "      <td>0</td>\n",
       "      <td>1</td>\n",
       "      <td>feliz aniversario a los hermanos de zr23 son 8 anos de awante y esperamos que sean muchos mas un abrazo de gol a toda su gente zr23 caracasfc venezuela dalero 23deenero ldr ocho cfc</td>\n",
       "      <td>2</td>\n",
       "      <td>0</td>\n",
       "    </tr>\n",
       "    <tr>\n",
       "      <th>132669</th>\n",
       "      <td>@PlantillaDepor1 @LFC Un gran numero para un gran jugador, Grande Sadio!</td>\n",
       "      <td>POSITIVE</td>\n",
       "      <td>72</td>\n",
       "      <td>0</td>\n",
       "      <td>49</td>\n",
       "      <td>8</td>\n",
       "      <td>1</td>\n",
       "      <td>10</td>\n",
       "      <td>11</td>\n",
       "      <td>1</td>\n",
       "      <td>0</td>\n",
       "      <td>0</td>\n",
       "      <td>1</td>\n",
       "      <td>1</td>\n",
       "      <td>0</td>\n",
       "      <td>2</td>\n",
       "      <td>0</td>\n",
       "      <td>un gran numero para un gran jugador grande sadio</td>\n",
       "      <td>1</td>\n",
       "      <td>0</td>\n",
       "    </tr>\n",
       "    <tr>\n",
       "      <th>132684</th>\n",
       "      <td>@FulhamFC OS COMÍA A BESOS, DON FULHAM. PRIMERO NOS ECHÁIS UN CABLE PARA GANAR UN TÍTULO EUROPEO TRAS 45 AÑOS Y AHORA NOS LIBRAIS DE VIETTO. ETERNAMENTE AGRADECIDOS.</td>\n",
       "      <td>POSITIVE</td>\n",
       "      <td>165</td>\n",
       "      <td>0</td>\n",
       "      <td>5</td>\n",
       "      <td>126</td>\n",
       "      <td>2</td>\n",
       "      <td>27</td>\n",
       "      <td>28</td>\n",
       "      <td>1</td>\n",
       "      <td>0</td>\n",
       "      <td>0</td>\n",
       "      <td>0</td>\n",
       "      <td>0</td>\n",
       "      <td>0</td>\n",
       "      <td>1</td>\n",
       "      <td>0</td>\n",
       "      <td>os comia a besos don fulham primero nos echais un cable para ganar un titulo europeo tras 45 anos y ahora nos librais de vietto eternamente agradecidos</td>\n",
       "      <td>1</td>\n",
       "      <td>0</td>\n",
       "    </tr>\n",
       "    <tr>\n",
       "      <th>132688</th>\n",
       "      <td>@C1audioBravo @ManCity Wooowww gran mensaje , necesitaba algo así hoy  para darle motivación a mi vida ??,jamás rendirse</td>\n",
       "      <td>POSITIVE</td>\n",
       "      <td>120</td>\n",
       "      <td>0</td>\n",
       "      <td>90</td>\n",
       "      <td>5</td>\n",
       "      <td>1</td>\n",
       "      <td>18</td>\n",
       "      <td>19</td>\n",
       "      <td>1</td>\n",
       "      <td>0</td>\n",
       "      <td>0</td>\n",
       "      <td>0</td>\n",
       "      <td>0</td>\n",
       "      <td>0</td>\n",
       "      <td>2</td>\n",
       "      <td>0</td>\n",
       "      <td>wooowww gran mensaje necesitaba algo asi hoy para darle motivacion a mi vida jamas rendirse</td>\n",
       "      <td>1</td>\n",
       "      <td>1</td>\n",
       "    </tr>\n",
       "    <tr>\n",
       "      <th>132689</th>\n",
       "      <td>#LigaPremierTD ¡Letal! @dele_official  la pone fuera del alcance del arquero y aumenta la ventaja para @SpursOfficial https://t.co/0ag8sQbJMA</td>\n",
       "      <td>POSITIVE</td>\n",
       "      <td>141</td>\n",
       "      <td>0</td>\n",
       "      <td>100</td>\n",
       "      <td>11</td>\n",
       "      <td>2</td>\n",
       "      <td>17</td>\n",
       "      <td>18</td>\n",
       "      <td>1</td>\n",
       "      <td>1</td>\n",
       "      <td>1</td>\n",
       "      <td>1</td>\n",
       "      <td>1</td>\n",
       "      <td>1</td>\n",
       "      <td>2</td>\n",
       "      <td>1</td>\n",
       "      <td>ligapremiertd letal official la pone fuera del alcance del arquero y aumenta la ventaja para</td>\n",
       "      <td>1</td>\n",
       "      <td>1</td>\n",
       "    </tr>\n",
       "  </tbody>\n",
       "</table>\n",
       "<p>11004 rows × 20 columns</p>\n",
       "</div>"
      ],
      "text/plain": [
       "                                                                                                                                                                                                                                                          tweet_text  \\\n",
       "0                                                                                                           Alisson puede estar más tranquilo, no cargará con el peso de ser el arquero mas caro de la historia. Si es que eso le pesaba en algo. Gracias @ChelseaFC   \n",
       "17                                                                                                                                                                  Precioso el estadio Olímpico de Londres, casa de los Hammers @WestHamUtd https://t.co/hSEM6tkCdt   \n",
       "27                                                                                                                                             Hoy se vera si vamos por buen camino, faltan muchos jugadores, vamos con todo #Chelsea \\n\\n#CFCes #CommunityShield ??   \n",
       "33      En estas épocas en que Union me hace doler el corazón, el Liverpool me recuerda que el futbol es hermoso.\\n\\nNo son ni comparables los sentimientos, pero así todo, sigo alegrandome por cada gol Red.\\n\\nYou Never Walk Alone #YNWA https://t.co/aw6n3L7OqK   \n",
       "35                                                                                                                                                                                     @WestHamUtd @JackWilshere @F_Andersoon @Ing_Pellegrini Buen futuro con Felipe   \n",
       "...                                                                                                                                                                                                                                                              ...   \n",
       "132668                                   Feliz aniversario a los Hermanos de ZR23, son 8 años de awante y esperamos que sean muchos mas un abrazo de gol a toda su gente!!\\n\\n#ZR23 #CaracasFC #Venezuela #DaleRo #23deEnero #LDR #Ocho #CFC https://t.co/dYVGx926Vc   \n",
       "132669                                                                                                                                                                                      @PlantillaDepor1 @LFC Un gran numero para un gran jugador, Grande Sadio!   \n",
       "132684                                                                                         @FulhamFC OS COMÍA A BESOS, DON FULHAM. PRIMERO NOS ECHÁIS UN CABLE PARA GANAR UN TÍTULO EUROPEO TRAS 45 AÑOS Y AHORA NOS LIBRAIS DE VIETTO. ETERNAMENTE AGRADECIDOS.   \n",
       "132688                                                                                                                                      @C1audioBravo @ManCity Wooowww gran mensaje , necesitaba algo así hoy  para darle motivación a mi vida ??,jamás rendirse   \n",
       "132689                                                                                                                 #LigaPremierTD ¡Letal! @dele_official  la pone fuera del alcance del arquero y aumenta la ventaja para @SpursOfficial https://t.co/0ag8sQbJMA   \n",
       "\n",
       "       sentiment  tweet_mensaje  n_emojis  n_lower  n_upper  n_digit  \\\n",
       "0       POSITIVE            152         0      114        6        0   \n",
       "17      POSITIVE             96         0       66       11        1   \n",
       "27      POSITIVE            115         0       82        7        0   \n",
       "33      POSITIVE            248         0      176       16        3   \n",
       "35      POSITIVE             77         0       53       11        0   \n",
       "...          ...            ...       ...      ...      ...      ...   \n",
       "132668  POSITIVE            217         0      132       24       10   \n",
       "132669  POSITIVE             72         0       49        8        1   \n",
       "132684  POSITIVE            165         0        5      126        2   \n",
       "132688  POSITIVE            120         0       90        5        1   \n",
       "132689  POSITIVE            141         0      100       11        2   \n",
       "\n",
       "        n_whitespaces  n_words  has_tags  has_hashtag  has_urls  \\\n",
       "0                  28       29         1            0         0   \n",
       "17                 11       12         1            0         1   \n",
       "27                 19       18         0            1         0   \n",
       "33                 42       39         0            1         1   \n",
       "35                  7        8         1            0         0   \n",
       "...               ...      ...       ...          ...       ...   \n",
       "132668             35       34         0            1         1   \n",
       "132669             10       11         1            0         0   \n",
       "132684             27       28         1            0         0   \n",
       "132688             18       19         1            0         0   \n",
       "132689             17       18         1            1         1   \n",
       "\n",
       "        n_exclamation  n_question  n_hashtag  n_tags  n_urls  \\\n",
       "0                   0           0          0       1       0   \n",
       "17                  0           0          0       1       1   \n",
       "27                  0           0          3       0       0   \n",
       "33                  0           0          1       0       1   \n",
       "35                  0           0          0       4       0   \n",
       "...               ...         ...        ...     ...     ...   \n",
       "132668              1           1          8       0       1   \n",
       "132669              1           1          0       2       0   \n",
       "132684              0           0          0       1       0   \n",
       "132688              0           0          0       2       0   \n",
       "132689              1           1          1       2       1   \n",
       "\n",
       "                                                                                                                                                                                                                     tweet_clean  \\\n",
       "0                                                                                     alisson puede estar mas tranquilo no cargara con el peso de ser el arquero mas caro de la historia si es que eso le pesaba en algo gracias   \n",
       "17                                                                                                                                                                   precioso el estadio olimpico de londres casa de los hammers   \n",
       "27                                                                                                                     hoy se vera si vamos por buen camino faltan muchos jugadores vamos con todo chelsea cfces communityshield   \n",
       "33      en estas epocas en que union me hace doler el corazon el liverpool me recuerda que el futbol es hermoso no son ni comparables los sentimientos pero asi todo sigo alegrandome por cada gol red you never walk alone ynwa   \n",
       "35                                                                                                                                                                                   andersoon pellegrini buen futuro con felipe   \n",
       "...                                                                                                                                                                                                                          ...   \n",
       "132668                                     feliz aniversario a los hermanos de zr23 son 8 anos de awante y esperamos que sean muchos mas un abrazo de gol a toda su gente zr23 caracasfc venezuela dalero 23deenero ldr ocho cfc   \n",
       "132669                                                                                                                                                                          un gran numero para un gran jugador grande sadio   \n",
       "132684                                                                   os comia a besos don fulham primero nos echais un cable para ganar un titulo europeo tras 45 anos y ahora nos librais de vietto eternamente agradecidos   \n",
       "132688                                                                                                                               wooowww gran mensaje necesitaba algo asi hoy para darle motivacion a mi vida jamas rendirse   \n",
       "132689                                                                                                                              ligapremiertd letal official la pone fuera del alcance del arquero y aumenta la ventaja para   \n",
       "\n",
       "        count_personal_positive  count_personal_negative  \n",
       "0                             1                        2  \n",
       "17                            1                        0  \n",
       "27                            0                        0  \n",
       "33                            1                        1  \n",
       "35                            0                        0  \n",
       "...                         ...                      ...  \n",
       "132668                        2                        0  \n",
       "132669                        1                        0  \n",
       "132684                        1                        0  \n",
       "132688                        1                        1  \n",
       "132689                        1                        1  \n",
       "\n",
       "[11004 rows x 20 columns]"
      ]
     },
     "execution_count": 62,
     "metadata": {},
     "output_type": "execute_result"
    }
   ],
   "source": [
    "pr.data.loc[pr.data[\"sentiment\"] == \"POSITIVE\"]"
   ]
  },
  {
   "cell_type": "code",
   "execution_count": null,
   "metadata": {},
   "outputs": [],
   "source": []
  }
 ],
 "metadata": {
  "kernelspec": {
   "display_name": "Python 3",
   "language": "python",
   "name": "python3"
  },
  "language_info": {
   "codemirror_mode": {
    "name": "ipython",
    "version": 3
   },
   "file_extension": ".py",
   "mimetype": "text/x-python",
   "name": "python",
   "nbconvert_exporter": "python",
   "pygments_lexer": "ipython3",
   "version": "3.8.5"
  }
 },
 "nbformat": 4,
 "nbformat_minor": 4
}
