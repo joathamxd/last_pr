{
 "cells": [
  {
   "cell_type": "code",
   "execution_count": 1,
   "metadata": {
    "ExecuteTime": {
     "end_time": "2021-06-06T08:45:17.331888Z",
     "start_time": "2021-06-06T08:45:16.435554Z"
    }
   },
   "outputs": [],
   "source": [
    "from sklearn.model_selection import cross_val_score, train_test_split, GridSearchCV, RandomizedSearchCV\n",
    "from sklearn.feature_extraction.text import CountVectorizer, TfidfVectorizer\n",
    "from sklearn.linear_model import LinearRegression, Lars, ElasticNet, Lasso, Ridge, BayesianRidge\n",
    "from sklearn.preprocessing import MinMaxScaler\n",
    "from sklearn.linear_model import Ridge\n",
    "import cufflinks as cf\n",
    "import pandas as pd\n",
    "import numpy as np\n",
    "import emoji\n",
    "import re\n",
    "from wordcloud import WordCloud, STOPWORDS\n",
    "import nltk\n",
    "import matplotlib.pyplot as plt\n",
    "import matplotlib\n",
    "import emoji\n",
    "import re\n",
    "import re, unicodedata\n",
    "from pandas import DataFrame\n",
    "from nltk.corpus import stopwords\n",
    "from sklearn.linear_model import LogisticRegression"
   ]
  },
  {
   "cell_type": "code",
   "execution_count": 2,
   "metadata": {
    "ExecuteTime": {
     "end_time": "2021-06-06T08:45:17.969239Z",
     "start_time": "2021-06-06T08:45:17.333106Z"
    }
   },
   "outputs": [],
   "source": [
    "data= pd.read_csv('/home/bluestrk/Documentos/data_science/module_five/last_pr/betsentiment-ES-tweets-sentiment-teams.csv', encoding='latin1')"
   ]
  },
  {
   "cell_type": "code",
   "execution_count": 3,
   "metadata": {
    "ExecuteTime": {
     "end_time": "2021-06-06T08:45:17.990068Z",
     "start_time": "2021-06-06T08:45:17.970647Z"
    }
   },
   "outputs": [],
   "source": [
    "data.drop(['tweet_date_created','language', 'tweet_id', 'sentiment_score'], axis=1, inplace=True)"
   ]
  },
  {
   "cell_type": "code",
   "execution_count": 4,
   "metadata": {
    "ExecuteTime": {
     "end_time": "2021-06-06T08:45:18.000472Z",
     "start_time": "2021-06-06T08:45:17.991859Z"
    }
   },
   "outputs": [],
   "source": [
    "import sys\n",
    "sys.path.append(\"../\")\n",
    "from hello_world.tweet_evaluator import Process"
   ]
  },
  {
   "cell_type": "code",
   "execution_count": 5,
   "metadata": {
    "ExecuteTime": {
     "end_time": "2021-06-06T08:47:14.372507Z",
     "start_time": "2021-06-06T08:45:18.002472Z"
    }
   },
   "outputs": [],
   "source": [
    "pr = Process(data, \"../hello_world/\")\n",
    "pr.run()"
   ]
  },
  {
   "cell_type": "code",
   "execution_count": 6,
   "metadata": {
    "ExecuteTime": {
     "end_time": "2021-06-06T08:47:14.376308Z",
     "start_time": "2021-06-06T08:47:14.374098Z"
    }
   },
   "outputs": [],
   "source": [
    "features = [\n",
    "    'tweet_mensaje',\n",
    "    'n_emojis', 'n_lower', 'n_upper',\n",
    "    'n_digit', 'n_whitespaces', 'n_words', 'has_tags', 'has_hashtag',\n",
    "    'has_urls', 'n_exclamation', 'n_question', 'n_hashtag', 'n_tags',\n",
    "    'n_urls', 'count_personal_positive',\n",
    "    'count_personal_negative'\n",
    "]"
   ]
  },
  {
   "cell_type": "code",
   "execution_count": 7,
   "metadata": {
    "ExecuteTime": {
     "end_time": "2021-06-06T08:47:14.381293Z",
     "start_time": "2021-06-06T08:47:14.378136Z"
    }
   },
   "outputs": [],
   "source": [
    "# vect = CountVectorizer(stop_words=stopwords.words(\"spanish\"), ngram_range=(1, 1), min_df=1, max_features=100)"
   ]
  },
  {
   "cell_type": "code",
   "execution_count": 8,
   "metadata": {
    "ExecuteTime": {
     "end_time": "2021-06-06T08:47:14.386680Z",
     "start_time": "2021-06-06T08:47:14.382782Z"
    }
   },
   "outputs": [],
   "source": [
    "# vect.fit(data[\"tweet_clean\"])"
   ]
  },
  {
   "cell_type": "code",
   "execution_count": 17,
   "metadata": {
    "ExecuteTime": {
     "end_time": "2021-06-06T08:48:04.771248Z",
     "start_time": "2021-06-06T08:48:04.761052Z"
    }
   },
   "outputs": [],
   "source": [
    "X=pr.data[features]\n",
    "y=pr.data[\"sentiment\"]"
   ]
  },
  {
   "cell_type": "code",
   "execution_count": 18,
   "metadata": {
    "ExecuteTime": {
     "end_time": "2021-06-06T08:48:05.522536Z",
     "start_time": "2021-06-06T08:48:05.496768Z"
    }
   },
   "outputs": [],
   "source": [
    "mm_x = MinMaxScaler()\n",
    "Xs = mm_x.fit_transform(X)"
   ]
  },
  {
   "cell_type": "code",
   "execution_count": 19,
   "metadata": {
    "ExecuteTime": {
     "end_time": "2021-06-06T08:48:05.752907Z",
     "start_time": "2021-06-06T08:48:05.716329Z"
    }
   },
   "outputs": [],
   "source": [
    "X_train, X_test, y_train, y_test = train_test_split(Xs, y)"
   ]
  },
  {
   "cell_type": "code",
   "execution_count": 20,
   "metadata": {
    "ExecuteTime": {
     "end_time": "2021-06-06T08:48:05.906567Z",
     "start_time": "2021-06-06T08:48:05.904102Z"
    }
   },
   "outputs": [],
   "source": [
    "logreg = LogisticRegression(max_iter=1000, multi_class=\"multinomial\")"
   ]
  },
  {
   "cell_type": "code",
   "execution_count": 21,
   "metadata": {
    "ExecuteTime": {
     "end_time": "2021-06-06T08:48:19.933087Z",
     "start_time": "2021-06-06T08:48:06.108196Z"
    }
   },
   "outputs": [
    {
     "data": {
      "text/plain": [
       "LogisticRegression(max_iter=1000, multi_class='multinomial')"
      ]
     },
     "execution_count": 21,
     "metadata": {},
     "output_type": "execute_result"
    }
   ],
   "source": [
    "logreg.fit(X_train, y_train)"
   ]
  },
  {
   "cell_type": "code",
   "execution_count": 22,
   "metadata": {
    "ExecuteTime": {
     "end_time": "2021-06-06T08:48:20.020045Z",
     "start_time": "2021-06-06T08:48:19.935260Z"
    }
   },
   "outputs": [
    {
     "data": {
      "text/plain": [
       "0.8467010278204781"
      ]
     },
     "execution_count": 22,
     "metadata": {},
     "output_type": "execute_result"
    }
   ],
   "source": [
    "logreg.score(X_test, y_test)"
   ]
  },
  {
   "cell_type": "code",
   "execution_count": 23,
   "metadata": {
    "ExecuteTime": {
     "end_time": "2021-06-06T08:48:20.034004Z",
     "start_time": "2021-06-06T08:48:20.022027Z"
    }
   },
   "outputs": [
    {
     "data": {
      "text/plain": [
       "array(['NEUTRAL', 'NEUTRAL', 'NEUTRAL', ..., 'POSITIVE', 'NEUTRAL',\n",
       "       'NEUTRAL'], dtype=object)"
      ]
     },
     "execution_count": 23,
     "metadata": {},
     "output_type": "execute_result"
    }
   ],
   "source": [
    "logreg.predict(X_test)"
   ]
  },
  {
   "cell_type": "code",
   "execution_count": 24,
   "metadata": {
    "ExecuteTime": {
     "end_time": "2021-06-06T08:48:20.065779Z",
     "start_time": "2021-06-06T08:48:20.036058Z"
    }
   },
   "outputs": [
    {
     "data": {
      "text/html": [
       "<div>\n",
       "<style scoped>\n",
       "    .dataframe tbody tr th:only-of-type {\n",
       "        vertical-align: middle;\n",
       "    }\n",
       "\n",
       "    .dataframe tbody tr th {\n",
       "        vertical-align: top;\n",
       "    }\n",
       "\n",
       "    .dataframe thead th {\n",
       "        text-align: right;\n",
       "    }\n",
       "</style>\n",
       "<table border=\"1\" class=\"dataframe\">\n",
       "  <thead>\n",
       "    <tr style=\"text-align: right;\">\n",
       "      <th></th>\n",
       "      <th>0</th>\n",
       "      <th>1</th>\n",
       "      <th>2</th>\n",
       "      <th>3</th>\n",
       "    </tr>\n",
       "  </thead>\n",
       "  <tbody>\n",
       "    <tr>\n",
       "      <th>0</th>\n",
       "      <td>0.000143</td>\n",
       "      <td>0.007376</td>\n",
       "      <td>0.977931</td>\n",
       "      <td>0.014549</td>\n",
       "    </tr>\n",
       "    <tr>\n",
       "      <th>1</th>\n",
       "      <td>0.027927</td>\n",
       "      <td>0.280997</td>\n",
       "      <td>0.676467</td>\n",
       "      <td>0.014610</td>\n",
       "    </tr>\n",
       "    <tr>\n",
       "      <th>2</th>\n",
       "      <td>0.001622</td>\n",
       "      <td>0.024606</td>\n",
       "      <td>0.824088</td>\n",
       "      <td>0.149684</td>\n",
       "    </tr>\n",
       "    <tr>\n",
       "      <th>3</th>\n",
       "      <td>0.000137</td>\n",
       "      <td>0.001614</td>\n",
       "      <td>0.996485</td>\n",
       "      <td>0.001764</td>\n",
       "    </tr>\n",
       "    <tr>\n",
       "      <th>4</th>\n",
       "      <td>0.005741</td>\n",
       "      <td>0.044590</td>\n",
       "      <td>0.787814</td>\n",
       "      <td>0.161855</td>\n",
       "    </tr>\n",
       "    <tr>\n",
       "      <th>...</th>\n",
       "      <td>...</td>\n",
       "      <td>...</td>\n",
       "      <td>...</td>\n",
       "      <td>...</td>\n",
       "    </tr>\n",
       "    <tr>\n",
       "      <th>33172</th>\n",
       "      <td>0.000902</td>\n",
       "      <td>0.012540</td>\n",
       "      <td>0.947573</td>\n",
       "      <td>0.038986</td>\n",
       "    </tr>\n",
       "    <tr>\n",
       "      <th>33173</th>\n",
       "      <td>0.060926</td>\n",
       "      <td>0.450974</td>\n",
       "      <td>0.415391</td>\n",
       "      <td>0.072710</td>\n",
       "    </tr>\n",
       "    <tr>\n",
       "      <th>33174</th>\n",
       "      <td>0.255429</td>\n",
       "      <td>0.169577</td>\n",
       "      <td>0.177458</td>\n",
       "      <td>0.397536</td>\n",
       "    </tr>\n",
       "    <tr>\n",
       "      <th>33175</th>\n",
       "      <td>0.004006</td>\n",
       "      <td>0.180434</td>\n",
       "      <td>0.765848</td>\n",
       "      <td>0.049712</td>\n",
       "    </tr>\n",
       "    <tr>\n",
       "      <th>33176</th>\n",
       "      <td>0.000350</td>\n",
       "      <td>0.013337</td>\n",
       "      <td>0.939410</td>\n",
       "      <td>0.046903</td>\n",
       "    </tr>\n",
       "  </tbody>\n",
       "</table>\n",
       "<p>33177 rows × 4 columns</p>\n",
       "</div>"
      ],
      "text/plain": [
       "              0         1         2         3\n",
       "0      0.000143  0.007376  0.977931  0.014549\n",
       "1      0.027927  0.280997  0.676467  0.014610\n",
       "2      0.001622  0.024606  0.824088  0.149684\n",
       "3      0.000137  0.001614  0.996485  0.001764\n",
       "4      0.005741  0.044590  0.787814  0.161855\n",
       "...         ...       ...       ...       ...\n",
       "33172  0.000902  0.012540  0.947573  0.038986\n",
       "33173  0.060926  0.450974  0.415391  0.072710\n",
       "33174  0.255429  0.169577  0.177458  0.397536\n",
       "33175  0.004006  0.180434  0.765848  0.049712\n",
       "33176  0.000350  0.013337  0.939410  0.046903\n",
       "\n",
       "[33177 rows x 4 columns]"
      ]
     },
     "execution_count": 24,
     "metadata": {},
     "output_type": "execute_result"
    }
   ],
   "source": [
    "pd.DataFrame(logreg.predict_proba(X_test))"
   ]
  },
  {
   "cell_type": "code",
   "execution_count": 29,
   "metadata": {
    "ExecuteTime": {
     "end_time": "2021-06-06T08:50:23.572352Z",
     "start_time": "2021-06-06T08:50:23.568768Z"
    }
   },
   "outputs": [
    {
     "data": {
      "text/plain": [
       "array(['MIXED', 'NEGATIVE', 'NEUTRAL', 'POSITIVE'], dtype=object)"
      ]
     },
     "execution_count": 29,
     "metadata": {},
     "output_type": "execute_result"
    }
   ],
   "source": [
    "logreg.classes_"
   ]
  },
  {
   "cell_type": "code",
   "execution_count": null,
   "metadata": {},
   "outputs": [],
   "source": []
  }
 ],
 "metadata": {
  "kernelspec": {
   "display_name": "Python 3",
   "language": "python",
   "name": "python3"
  },
  "language_info": {
   "codemirror_mode": {
    "name": "ipython",
    "version": 3
   },
   "file_extension": ".py",
   "mimetype": "text/x-python",
   "name": "python",
   "nbconvert_exporter": "python",
   "pygments_lexer": "ipython3",
   "version": "3.8.5"
  }
 },
 "nbformat": 4,
 "nbformat_minor": 4
}
