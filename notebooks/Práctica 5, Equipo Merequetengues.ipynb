{
 "cells": [
  {
   "cell_type": "code",
   "execution_count": 1,
   "metadata": {
    "ExecuteTime": {
     "end_time": "2021-06-10T20:07:10.481474Z",
     "start_time": "2021-06-10T20:07:08.284735Z"
    }
   },
   "outputs": [],
   "source": [
    "from sklearn.model_selection import cross_val_score, train_test_split, GridSearchCV, RandomizedSearchCV\n",
    "from sklearn.feature_extraction.text import CountVectorizer, TfidfVectorizer\n",
    "from sklearn.linear_model import LinearRegression, Lars, ElasticNet, Lasso, Ridge, BayesianRidge\n",
    "from sklearn.preprocessing import MinMaxScaler\n",
    "from sklearn.linear_model import Ridge\n",
    "import cufflinks as cf\n",
    "import pandas as pd\n",
    "import numpy as np\n",
    "import emoji\n",
    "import re\n",
    "from wordcloud import WordCloud, STOPWORDS\n",
    "import nltk\n",
    "import matplotlib.pyplot as plt\n",
    "import matplotlib\n",
    "import emoji\n",
    "import re\n",
    "import re, unicodedata\n",
    "from pandas import DataFrame\n",
    "from nltk.corpus import stopwords\n",
    "from sklearn.linear_model import LogisticRegression\n",
    "from pickle import dump, load"
   ]
  },
  {
   "cell_type": "code",
   "execution_count": 6,
   "metadata": {
    "ExecuteTime": {
     "end_time": "2021-06-10T20:09:08.216206Z",
     "start_time": "2021-06-10T20:09:07.552134Z"
    }
   },
   "outputs": [],
   "source": [
    "data= pd.read_csv('/home/bluestrk/Documentos/data_science/module_five/last_pr/betsentiment-ES-tweets-sentiment-teams.csv', encoding='latin1')"
   ]
  },
  {
   "cell_type": "code",
   "execution_count": 7,
   "metadata": {
    "ExecuteTime": {
     "end_time": "2021-06-10T20:09:09.546197Z",
     "start_time": "2021-06-10T20:09:09.523946Z"
    }
   },
   "outputs": [],
   "source": [
    "data.drop(['tweet_date_created','language', 'tweet_id', 'sentiment_score'], axis=1, inplace=True)"
   ]
  },
  {
   "cell_type": "code",
   "execution_count": 8,
   "metadata": {
    "ExecuteTime": {
     "end_time": "2021-06-10T20:09:09.813504Z",
     "start_time": "2021-06-10T20:09:09.801692Z"
    }
   },
   "outputs": [],
   "source": [
    "import sys\n",
    "sys.path.append(\"../\")\n",
    "from hello_world.tweet_evaluator import Process"
   ]
  },
  {
   "cell_type": "code",
   "execution_count": 9,
   "metadata": {
    "ExecuteTime": {
     "end_time": "2021-06-10T20:11:09.336201Z",
     "start_time": "2021-06-10T20:09:10.002938Z"
    }
   },
   "outputs": [
    {
     "name": "stdout",
     "output_type": "stream",
     "text": [
      "Starting process\n",
      "Process previous clean text\n",
      "Evaluating negative words\n"
     ]
    }
   ],
   "source": [
    "pr = Process(data, \"../hello_world/\")\n",
    "pr.run()"
   ]
  },
  {
   "cell_type": "code",
   "execution_count": 10,
   "metadata": {
    "ExecuteTime": {
     "end_time": "2021-06-10T20:11:09.339589Z",
     "start_time": "2021-06-10T20:11:09.337489Z"
    }
   },
   "outputs": [],
   "source": [
    "features = [\n",
    "    'tweet_mensaje',\n",
    "    'n_emojis', 'n_lower', 'n_upper',\n",
    "    'n_digit', 'n_whitespaces', 'n_words', 'has_tags', 'has_hashtag',\n",
    "    'has_urls', 'n_exclamation', 'n_question', 'n_hashtag', 'n_tags',\n",
    "    'n_urls', 'count_personal_positive',\n",
    "    'count_personal_negative'\n",
    "]"
   ]
  },
  {
   "cell_type": "code",
   "execution_count": 11,
   "metadata": {
    "ExecuteTime": {
     "end_time": "2021-06-10T20:11:09.347181Z",
     "start_time": "2021-06-10T20:11:09.340819Z"
    }
   },
   "outputs": [],
   "source": [
    "# vect = CountVectorizer(stop_words=stopwords.words(\"spanish\"), ngram_range=(1, 1), min_df=1, max_features=100)"
   ]
  },
  {
   "cell_type": "code",
   "execution_count": 12,
   "metadata": {
    "ExecuteTime": {
     "end_time": "2021-06-10T20:11:09.350972Z",
     "start_time": "2021-06-10T20:11:09.348281Z"
    }
   },
   "outputs": [],
   "source": [
    "# vect.fit(data[\"tweet_clean\"])"
   ]
  },
  {
   "cell_type": "code",
   "execution_count": 13,
   "metadata": {
    "ExecuteTime": {
     "end_time": "2021-06-10T20:11:09.381648Z",
     "start_time": "2021-06-10T20:11:09.352121Z"
    }
   },
   "outputs": [],
   "source": [
    "X=pr.data[features]\n",
    "y=pr.data[\"sentiment\"]"
   ]
  },
  {
   "cell_type": "code",
   "execution_count": 14,
   "metadata": {
    "ExecuteTime": {
     "end_time": "2021-06-10T20:11:09.406336Z",
     "start_time": "2021-06-10T20:11:09.382810Z"
    }
   },
   "outputs": [],
   "source": [
    "mm_x = MinMaxScaler()\n",
    "Xs = mm_x.fit_transform(X)"
   ]
  },
  {
   "cell_type": "code",
   "execution_count": null,
   "metadata": {},
   "outputs": [],
   "source": []
  },
  {
   "cell_type": "code",
   "execution_count": 15,
   "metadata": {
    "ExecuteTime": {
     "end_time": "2021-06-10T20:21:24.086579Z",
     "start_time": "2021-06-10T20:21:24.055128Z"
    }
   },
   "outputs": [],
   "source": [
    "X_train, X_test, y_train, y_test = train_test_split(Xs, y)"
   ]
  },
  {
   "cell_type": "code",
   "execution_count": 16,
   "metadata": {
    "ExecuteTime": {
     "end_time": "2021-06-10T20:21:24.259893Z",
     "start_time": "2021-06-10T20:21:24.257381Z"
    }
   },
   "outputs": [],
   "source": [
    "logreg = LogisticRegression(max_iter=1000, multi_class=\"multinomial\")"
   ]
  },
  {
   "cell_type": "code",
   "execution_count": 17,
   "metadata": {
    "ExecuteTime": {
     "end_time": "2021-06-10T20:21:40.059268Z",
     "start_time": "2021-06-10T20:21:24.410114Z"
    }
   },
   "outputs": [
    {
     "data": {
      "text/plain": [
       "LogisticRegression(max_iter=1000, multi_class='multinomial')"
      ]
     },
     "execution_count": 17,
     "metadata": {},
     "output_type": "execute_result"
    }
   ],
   "source": [
    "logreg.fit(X_train, y_train)"
   ]
  },
  {
   "cell_type": "code",
   "execution_count": 18,
   "metadata": {
    "ExecuteTime": {
     "end_time": "2021-06-10T20:21:40.133350Z",
     "start_time": "2021-06-10T20:21:40.061483Z"
    }
   },
   "outputs": [
    {
     "data": {
      "text/plain": [
       "0.8460982005606293"
      ]
     },
     "execution_count": 18,
     "metadata": {},
     "output_type": "execute_result"
    }
   ],
   "source": [
    "logreg.score(X_test, y_test)"
   ]
  },
  {
   "cell_type": "code",
   "execution_count": 19,
   "metadata": {
    "ExecuteTime": {
     "end_time": "2021-06-10T20:21:52.342679Z",
     "start_time": "2021-06-10T20:21:40.136005Z"
    }
   },
   "outputs": [
    {
     "data": {
      "text/plain": [
       "(0.8454636830662493, 0.0009429246895755921)"
      ]
     },
     "execution_count": 19,
     "metadata": {},
     "output_type": "execute_result"
    }
   ],
   "source": [
    "ls_scores = cross_val_score(logreg, X_train, y_train, cv=4, n_jobs=-1)\n",
    "np.mean(ls_scores), np.std(ls_scores)"
   ]
  },
  {
   "cell_type": "code",
   "execution_count": 20,
   "metadata": {
    "ExecuteTime": {
     "end_time": "2021-06-10T20:21:52.366389Z",
     "start_time": "2021-06-10T20:21:52.344321Z"
    }
   },
   "outputs": [
    {
     "data": {
      "text/plain": [
       "array(['NEUTRAL', 'NEUTRAL', 'NEUTRAL', ..., 'NEUTRAL', 'NEUTRAL',\n",
       "       'NEUTRAL'], dtype=object)"
      ]
     },
     "execution_count": 20,
     "metadata": {},
     "output_type": "execute_result"
    }
   ],
   "source": [
    "logreg.predict(X_test)"
   ]
  },
  {
   "cell_type": "code",
   "execution_count": 21,
   "metadata": {
    "ExecuteTime": {
     "end_time": "2021-06-10T20:21:52.405522Z",
     "start_time": "2021-06-10T20:21:52.368067Z"
    }
   },
   "outputs": [
    {
     "data": {
      "text/html": [
       "<div>\n",
       "<style scoped>\n",
       "    .dataframe tbody tr th:only-of-type {\n",
       "        vertical-align: middle;\n",
       "    }\n",
       "\n",
       "    .dataframe tbody tr th {\n",
       "        vertical-align: top;\n",
       "    }\n",
       "\n",
       "    .dataframe thead th {\n",
       "        text-align: right;\n",
       "    }\n",
       "</style>\n",
       "<table border=\"1\" class=\"dataframe\">\n",
       "  <thead>\n",
       "    <tr style=\"text-align: right;\">\n",
       "      <th></th>\n",
       "      <th>0</th>\n",
       "      <th>1</th>\n",
       "      <th>2</th>\n",
       "      <th>3</th>\n",
       "    </tr>\n",
       "  </thead>\n",
       "  <tbody>\n",
       "    <tr>\n",
       "      <th>0</th>\n",
       "      <td>0.000581</td>\n",
       "      <td>0.012853</td>\n",
       "      <td>0.967747</td>\n",
       "      <td>0.018818</td>\n",
       "    </tr>\n",
       "    <tr>\n",
       "      <th>1</th>\n",
       "      <td>0.000770</td>\n",
       "      <td>0.031736</td>\n",
       "      <td>0.952395</td>\n",
       "      <td>0.015099</td>\n",
       "    </tr>\n",
       "    <tr>\n",
       "      <th>2</th>\n",
       "      <td>0.009407</td>\n",
       "      <td>0.047552</td>\n",
       "      <td>0.768581</td>\n",
       "      <td>0.174460</td>\n",
       "    </tr>\n",
       "    <tr>\n",
       "      <th>3</th>\n",
       "      <td>0.000705</td>\n",
       "      <td>0.007002</td>\n",
       "      <td>0.939542</td>\n",
       "      <td>0.052752</td>\n",
       "    </tr>\n",
       "    <tr>\n",
       "      <th>4</th>\n",
       "      <td>0.001537</td>\n",
       "      <td>0.029881</td>\n",
       "      <td>0.936480</td>\n",
       "      <td>0.032102</td>\n",
       "    </tr>\n",
       "    <tr>\n",
       "      <th>...</th>\n",
       "      <td>...</td>\n",
       "      <td>...</td>\n",
       "      <td>...</td>\n",
       "      <td>...</td>\n",
       "    </tr>\n",
       "    <tr>\n",
       "      <th>33172</th>\n",
       "      <td>0.000430</td>\n",
       "      <td>0.011198</td>\n",
       "      <td>0.960107</td>\n",
       "      <td>0.028265</td>\n",
       "    </tr>\n",
       "    <tr>\n",
       "      <th>33173</th>\n",
       "      <td>0.005556</td>\n",
       "      <td>0.034900</td>\n",
       "      <td>0.730963</td>\n",
       "      <td>0.228580</td>\n",
       "    </tr>\n",
       "    <tr>\n",
       "      <th>33174</th>\n",
       "      <td>0.000173</td>\n",
       "      <td>0.008500</td>\n",
       "      <td>0.954652</td>\n",
       "      <td>0.036675</td>\n",
       "    </tr>\n",
       "    <tr>\n",
       "      <th>33175</th>\n",
       "      <td>0.002106</td>\n",
       "      <td>0.069949</td>\n",
       "      <td>0.911834</td>\n",
       "      <td>0.016111</td>\n",
       "    </tr>\n",
       "    <tr>\n",
       "      <th>33176</th>\n",
       "      <td>0.007777</td>\n",
       "      <td>0.366831</td>\n",
       "      <td>0.594046</td>\n",
       "      <td>0.031346</td>\n",
       "    </tr>\n",
       "  </tbody>\n",
       "</table>\n",
       "<p>33177 rows × 4 columns</p>\n",
       "</div>"
      ],
      "text/plain": [
       "              0         1         2         3\n",
       "0      0.000581  0.012853  0.967747  0.018818\n",
       "1      0.000770  0.031736  0.952395  0.015099\n",
       "2      0.009407  0.047552  0.768581  0.174460\n",
       "3      0.000705  0.007002  0.939542  0.052752\n",
       "4      0.001537  0.029881  0.936480  0.032102\n",
       "...         ...       ...       ...       ...\n",
       "33172  0.000430  0.011198  0.960107  0.028265\n",
       "33173  0.005556  0.034900  0.730963  0.228580\n",
       "33174  0.000173  0.008500  0.954652  0.036675\n",
       "33175  0.002106  0.069949  0.911834  0.016111\n",
       "33176  0.007777  0.366831  0.594046  0.031346\n",
       "\n",
       "[33177 rows x 4 columns]"
      ]
     },
     "execution_count": 21,
     "metadata": {},
     "output_type": "execute_result"
    }
   ],
   "source": [
    "pd.DataFrame(logreg.predict_proba(X_test))"
   ]
  },
  {
   "cell_type": "code",
   "execution_count": 22,
   "metadata": {
    "ExecuteTime": {
     "end_time": "2021-06-10T20:21:52.411133Z",
     "start_time": "2021-06-10T20:21:52.407318Z"
    }
   },
   "outputs": [
    {
     "data": {
      "text/plain": [
       "array(['MIXED', 'NEGATIVE', 'NEUTRAL', 'POSITIVE'], dtype=object)"
      ]
     },
     "execution_count": 22,
     "metadata": {},
     "output_type": "execute_result"
    }
   ],
   "source": [
    "logreg.classes_"
   ]
  },
  {
   "cell_type": "code",
   "execution_count": 23,
   "metadata": {
    "ExecuteTime": {
     "end_time": "2021-06-10T20:21:52.479443Z",
     "start_time": "2021-06-10T20:21:52.412935Z"
    }
   },
   "outputs": [
    {
     "name": "stdout",
     "output_type": "stream",
     "text": [
      "0.8463694728275613\n"
     ]
    }
   ],
   "source": [
    "loaded_model = load(open(\"../hello_world/data/models/los_merequetengues.pk\", 'rb'))\n",
    "result = loaded_model.score(X_test, y_test)\n",
    "print(result)"
   ]
  },
  {
   "cell_type": "code",
   "execution_count": 24,
   "metadata": {
    "ExecuteTime": {
     "end_time": "2021-06-10T20:21:52.487655Z",
     "start_time": "2021-06-10T20:21:52.482859Z"
    }
   },
   "outputs": [],
   "source": [
    "def get_trained_model(data):\n",
    "    model = load(open(\"../hello_world/data/models/los_merequetengues.pk\", 'rb'))\n",
    "    predict = model.predict(data)\n",
    "    proba = model.predict_proba(data)\n",
    "    clases = model.classes_\n",
    "    return predict, proba, clases"
   ]
  },
  {
   "cell_type": "code",
   "execution_count": 26,
   "metadata": {
    "ExecuteTime": {
     "end_time": "2021-06-10T20:22:00.098682Z",
     "start_time": "2021-06-10T20:22:00.096384Z"
    }
   },
   "outputs": [],
   "source": [
    "sample = X_test"
   ]
  },
  {
   "cell_type": "code",
   "execution_count": 27,
   "metadata": {
    "ExecuteTime": {
     "end_time": "2021-06-10T20:22:00.580112Z",
     "start_time": "2021-06-10T20:22:00.573494Z"
    }
   },
   "outputs": [
    {
     "data": {
      "text/plain": [
       "array(['NEUTRAL', 'NEUTRAL', 'NEUTRAL', ..., 'NEUTRAL', 'NEUTRAL',\n",
       "       'NEUTRAL'], dtype=object)"
      ]
     },
     "execution_count": 27,
     "metadata": {},
     "output_type": "execute_result"
    }
   ],
   "source": [
    "loaded_model.predict(X_test)"
   ]
  },
  {
   "cell_type": "code",
   "execution_count": 28,
   "metadata": {
    "ExecuteTime": {
     "end_time": "2021-06-10T20:22:00.740462Z",
     "start_time": "2021-06-10T20:22:00.721462Z"
    }
   },
   "outputs": [],
   "source": [
    "predict, proba, cl = get_trained_model(sample)"
   ]
  },
  {
   "cell_type": "code",
   "execution_count": 29,
   "metadata": {
    "ExecuteTime": {
     "end_time": "2021-06-10T20:22:00.845227Z",
     "start_time": "2021-06-10T20:22:00.842171Z"
    }
   },
   "outputs": [
    {
     "data": {
      "text/plain": [
       "array(['NEUTRAL', 'NEUTRAL', 'NEUTRAL', ..., 'NEUTRAL', 'NEUTRAL',\n",
       "       'NEUTRAL'], dtype=object)"
      ]
     },
     "execution_count": 29,
     "metadata": {},
     "output_type": "execute_result"
    }
   ],
   "source": [
    "predict"
   ]
  },
  {
   "cell_type": "code",
   "execution_count": 30,
   "metadata": {
    "ExecuteTime": {
     "end_time": "2021-06-10T20:22:00.986977Z",
     "start_time": "2021-06-10T20:22:00.982375Z"
    }
   },
   "outputs": [
    {
     "data": {
      "text/plain": [
       "0.0005686341466990378"
      ]
     },
     "execution_count": 30,
     "metadata": {},
     "output_type": "execute_result"
    }
   ],
   "source": [
    "proba[0][0]"
   ]
  },
  {
   "cell_type": "code",
   "execution_count": 31,
   "metadata": {
    "ExecuteTime": {
     "end_time": "2021-06-10T20:22:01.636132Z",
     "start_time": "2021-06-10T20:22:01.632363Z"
    }
   },
   "outputs": [
    {
     "data": {
      "text/plain": [
       "array(['MIXED', 'NEGATIVE', 'NEUTRAL', 'POSITIVE'], dtype=object)"
      ]
     },
     "execution_count": 31,
     "metadata": {},
     "output_type": "execute_result"
    }
   ],
   "source": [
    "cl"
   ]
  },
  {
   "cell_type": "markdown",
   "metadata": {},
   "source": [
    "# Clusters"
   ]
  },
  {
   "cell_type": "code",
   "execution_count": 33,
   "metadata": {
    "ExecuteTime": {
     "end_time": "2021-06-10T20:22:08.154851Z",
     "start_time": "2021-06-10T20:22:08.024478Z"
    }
   },
   "outputs": [],
   "source": [
    "from sklearn.cluster import KMeans, DBSCAN, AgglomerativeClustering\n",
    "from sklearn.metrics import davies_bouldin_score, silhouette_score"
   ]
  },
  {
   "cell_type": "code",
   "execution_count": 34,
   "metadata": {
    "ExecuteTime": {
     "end_time": "2021-06-10T20:23:18.289919Z",
     "start_time": "2021-06-10T20:22:08.285070Z"
    }
   },
   "outputs": [
    {
     "name": "stdout",
     "output_type": "stream",
     "text": [
      "2\n",
      "3\n",
      "4\n",
      "5\n",
      "6\n",
      "7\n",
      "8\n",
      "9\n"
     ]
    }
   ],
   "source": [
    "sse,db,slc = {}, {}, {}\n",
    "for k in range(2, 10):\n",
    "    print(k)\n",
    "    mini_Xp = X.sample(frac=0.1)\n",
    "    kmeans = KMeans(n_clusters=k, random_state=10).fit(mini_Xp)\n",
    "    if k == 3: \n",
    "        labels = kmeans.labels_\n",
    "    clusters = kmeans.labels_\n",
    "    sse[k] = kmeans.inertia_\n",
    "    db[k] = davies_bouldin_score(mini_Xp,clusters)\n",
    "    slc[k] = silhouette_score(mini_Xp,clusters)"
   ]
  },
  {
   "cell_type": "code",
   "execution_count": 35,
   "metadata": {
    "ExecuteTime": {
     "end_time": "2021-06-10T20:23:18.444735Z",
     "start_time": "2021-06-10T20:23:18.291242Z"
    }
   },
   "outputs": [
    {
     "data": {
      "image/png": "[encoded data removed]",
      "text/plain": [
       "<Figure size 1080x720 with 1 Axes>"
      ]
     },
     "metadata": {
      "needs_background": "light"
     },
     "output_type": "display_data"
    }
   ],
   "source": [
    "plt.figure(figsize=(15,10))\n",
    "plt.plot(list(sse.keys()), list(sse.values()), \"bx-\")\n",
    "plt.xlabel(\"Number of cluster\")\n",
    "plt.ylabel(\"SSE\")\n",
    "plt.show()"
   ]
  },
  {
   "cell_type": "code",
   "execution_count": 36,
   "metadata": {
    "ExecuteTime": {
     "end_time": "2021-06-10T20:23:18.591790Z",
     "start_time": "2021-06-10T20:23:18.446280Z"
    }
   },
   "outputs": [
    {
     "data": {
      "image/png": "[encoded data removed]",
      "text/plain": [
       "<Figure size 1080x720 with 1 Axes>"
      ]
     },
     "metadata": {
      "needs_background": "light"
     },
     "output_type": "display_data"
    }
   ],
   "source": [
    "plt.figure(figsize=(15,10))\n",
    "plt.plot(list(db.keys()), list(db.values()), \"bx-\")\n",
    "plt.xlabel(\"Number of cluster\")\n",
    "plt.ylabel(\"Davies-Bouldin values\")\n",
    "plt.show()"
   ]
  },
  {
   "cell_type": "code",
   "execution_count": 37,
   "metadata": {
    "ExecuteTime": {
     "end_time": "2021-06-10T20:23:18.721888Z",
     "start_time": "2021-06-10T20:23:18.593086Z"
    }
   },
   "outputs": [
    {
     "data": {
      "image/png": "[encoded data removed]",
      "text/plain": [
       "<Figure size 1080x720 with 1 Axes>"
      ]
     },
     "metadata": {
      "needs_background": "light"
     },
     "output_type": "display_data"
    }
   ],
   "source": [
    "plt.figure(figsize=(15,10))\n",
    "plt.plot(list(slc.keys()), list(slc.values()), \"bx-\")\n",
    "plt.xlabel(\"Number of cluster\")\n",
    "plt.ylabel(\"Silhouette score\")\n",
    "plt.show()"
   ]
  },
  {
   "cell_type": "code",
   "execution_count": 38,
   "metadata": {
    "ExecuteTime": {
     "end_time": "2021-06-10T20:23:18.724907Z",
     "start_time": "2021-06-10T20:23:18.722894Z"
    }
   },
   "outputs": [],
   "source": [
    "km = KMeans(n_clusters=4, n_jobs=-1, random_state=10)"
   ]
  },
  {
   "cell_type": "code",
   "execution_count": 39,
   "metadata": {
    "ExecuteTime": {
     "end_time": "2021-06-10T20:23:19.994950Z",
     "start_time": "2021-06-10T20:23:18.725887Z"
    }
   },
   "outputs": [
    {
     "name": "stderr",
     "output_type": "stream",
     "text": [
      "/home/bluestrk/Documentos/data_science/venv/lib/python3.8/site-packages/sklearn/cluster/_kmeans.py:792: FutureWarning:\n",
      "\n",
      "'n_jobs' was deprecated in version 0.23 and will be removed in 1.0 (renaming of 0.25).\n",
      "\n"
     ]
    },
    {
     "data": {
      "text/plain": [
       "KMeans(n_clusters=4, n_jobs=-1, random_state=10)"
      ]
     },
     "execution_count": 39,
     "metadata": {},
     "output_type": "execute_result"
    }
   ],
   "source": [
    "km.fit(Xs)"
   ]
  },
  {
   "cell_type": "code",
   "execution_count": 40,
   "metadata": {
    "ExecuteTime": {
     "end_time": "2021-06-10T20:23:20.032364Z",
     "start_time": "2021-06-10T20:23:19.996643Z"
    }
   },
   "outputs": [
    {
     "data": {
      "text/plain": [
       "array([1, 1, 2, ..., 1, 2, 3], dtype=int32)"
      ]
     },
     "execution_count": 40,
     "metadata": {},
     "output_type": "execute_result"
    }
   ],
   "source": [
    "km.predict(Xs)"
   ]
  },
  {
   "cell_type": "code",
   "execution_count": 41,
   "metadata": {
    "ExecuteTime": {
     "end_time": "2021-06-10T20:23:20.042005Z",
     "start_time": "2021-06-10T20:23:20.034767Z"
    }
   },
   "outputs": [],
   "source": [
    "from sklearn.mixture import GaussianMixture"
   ]
  },
  {
   "cell_type": "code",
   "execution_count": 42,
   "metadata": {
    "ExecuteTime": {
     "end_time": "2021-06-10T20:23:20.045730Z",
     "start_time": "2021-06-10T20:23:20.043531Z"
    }
   },
   "outputs": [],
   "source": [
    "gmm = GaussianMixture(n_components=4)"
   ]
  },
  {
   "cell_type": "code",
   "execution_count": 43,
   "metadata": {
    "ExecuteTime": {
     "end_time": "2021-06-10T20:23:21.537958Z",
     "start_time": "2021-06-10T20:23:20.047239Z"
    }
   },
   "outputs": [
    {
     "data": {
      "text/plain": [
       "GaussianMixture(n_components=4)"
      ]
     },
     "execution_count": 43,
     "metadata": {},
     "output_type": "execute_result"
    }
   ],
   "source": [
    "gmm.fit(Xs)"
   ]
  },
  {
   "cell_type": "code",
   "execution_count": 44,
   "metadata": {
    "ExecuteTime": {
     "end_time": "2021-06-10T20:23:21.784524Z",
     "start_time": "2021-06-10T20:23:21.539553Z"
    }
   },
   "outputs": [],
   "source": [
    "X['cluster']=gmm.predict(Xs)"
   ]
  },
  {
   "cell_type": "code",
   "execution_count": 45,
   "metadata": {
    "ExecuteTime": {
     "end_time": "2021-06-10T20:23:21.977121Z",
     "start_time": "2021-06-10T20:23:21.786584Z"
    }
   },
   "outputs": [
    {
     "data": {
      "text/html": [
       "<style  type=\"text/css\" >\n",
       "#T_b38bc204_ca29_11eb_b079_eb82f075a8aarow0_col0,#T_b38bc204_ca29_11eb_b079_eb82f075a8aarow0_col1,#T_b38bc204_ca29_11eb_b079_eb82f075a8aarow0_col2,#T_b38bc204_ca29_11eb_b079_eb82f075a8aarow0_col3,#T_b38bc204_ca29_11eb_b079_eb82f075a8aarow0_col4,#T_b38bc204_ca29_11eb_b079_eb82f075a8aarow0_col5,#T_b38bc204_ca29_11eb_b079_eb82f075a8aarow0_col6,#T_b38bc204_ca29_11eb_b079_eb82f075a8aarow0_col8,#T_b38bc204_ca29_11eb_b079_eb82f075a8aarow0_col9,#T_b38bc204_ca29_11eb_b079_eb82f075a8aarow0_col10,#T_b38bc204_ca29_11eb_b079_eb82f075a8aarow0_col11,#T_b38bc204_ca29_11eb_b079_eb82f075a8aarow0_col12,#T_b38bc204_ca29_11eb_b079_eb82f075a8aarow0_col14,#T_b38bc204_ca29_11eb_b079_eb82f075a8aarow2_col10,#T_b38bc204_ca29_11eb_b079_eb82f075a8aarow2_col11,#T_b38bc204_ca29_11eb_b079_eb82f075a8aarow2_col15,#T_b38bc204_ca29_11eb_b079_eb82f075a8aarow2_col16,#T_b38bc204_ca29_11eb_b079_eb82f075a8aarow3_col7,#T_b38bc204_ca29_11eb_b079_eb82f075a8aarow3_col9,#T_b38bc204_ca29_11eb_b079_eb82f075a8aarow3_col10,#T_b38bc204_ca29_11eb_b079_eb82f075a8aarow3_col11,#T_b38bc204_ca29_11eb_b079_eb82f075a8aarow3_col13,#T_b38bc204_ca29_11eb_b079_eb82f075a8aarow3_col14{\n",
       "            background-color:  #f7fbff;\n",
       "            color:  #000000;\n",
       "        }#T_b38bc204_ca29_11eb_b079_eb82f075a8aarow0_col7,#T_b38bc204_ca29_11eb_b079_eb82f075a8aarow0_col13,#T_b38bc204_ca29_11eb_b079_eb82f075a8aarow0_col16,#T_b38bc204_ca29_11eb_b079_eb82f075a8aarow1_col10,#T_b38bc204_ca29_11eb_b079_eb82f075a8aarow1_col11,#T_b38bc204_ca29_11eb_b079_eb82f075a8aarow2_col0,#T_b38bc204_ca29_11eb_b079_eb82f075a8aarow2_col2,#T_b38bc204_ca29_11eb_b079_eb82f075a8aarow2_col3,#T_b38bc204_ca29_11eb_b079_eb82f075a8aarow2_col4,#T_b38bc204_ca29_11eb_b079_eb82f075a8aarow2_col5,#T_b38bc204_ca29_11eb_b079_eb82f075a8aarow2_col6,#T_b38bc204_ca29_11eb_b079_eb82f075a8aarow2_col9,#T_b38bc204_ca29_11eb_b079_eb82f075a8aarow2_col12,#T_b38bc204_ca29_11eb_b079_eb82f075a8aarow2_col14,#T_b38bc204_ca29_11eb_b079_eb82f075a8aarow3_col1,#T_b38bc204_ca29_11eb_b079_eb82f075a8aarow3_col6,#T_b38bc204_ca29_11eb_b079_eb82f075a8aarow3_col8,#T_b38bc204_ca29_11eb_b079_eb82f075a8aarow3_col15{\n",
       "            background-color:  #08306b;\n",
       "            color:  #f1f1f1;\n",
       "        }#T_b38bc204_ca29_11eb_b079_eb82f075a8aarow0_col15{\n",
       "            background-color:  #58a1cf;\n",
       "            color:  #000000;\n",
       "        }#T_b38bc204_ca29_11eb_b079_eb82f075a8aarow1_col0{\n",
       "            background-color:  #6caed6;\n",
       "            color:  #000000;\n",
       "        }#T_b38bc204_ca29_11eb_b079_eb82f075a8aarow1_col1{\n",
       "            background-color:  #6aaed6;\n",
       "            color:  #000000;\n",
       "        }#T_b38bc204_ca29_11eb_b079_eb82f075a8aarow1_col2{\n",
       "            background-color:  #cddff1;\n",
       "            color:  #000000;\n",
       "        }#T_b38bc204_ca29_11eb_b079_eb82f075a8aarow1_col3{\n",
       "            background-color:  #08468b;\n",
       "            color:  #f1f1f1;\n",
       "        }#T_b38bc204_ca29_11eb_b079_eb82f075a8aarow1_col4,#T_b38bc204_ca29_11eb_b079_eb82f075a8aarow1_col12{\n",
       "            background-color:  #69add5;\n",
       "            color:  #000000;\n",
       "        }#T_b38bc204_ca29_11eb_b079_eb82f075a8aarow1_col5{\n",
       "            background-color:  #4695c8;\n",
       "            color:  #000000;\n",
       "        }#T_b38bc204_ca29_11eb_b079_eb82f075a8aarow1_col6{\n",
       "            background-color:  #7db8da;\n",
       "            color:  #000000;\n",
       "        }#T_b38bc204_ca29_11eb_b079_eb82f075a8aarow1_col7{\n",
       "            background-color:  #71b1d7;\n",
       "            color:  #000000;\n",
       "        }#T_b38bc204_ca29_11eb_b079_eb82f075a8aarow1_col8{\n",
       "            background-color:  #4896c8;\n",
       "            color:  #000000;\n",
       "        }#T_b38bc204_ca29_11eb_b079_eb82f075a8aarow1_col9{\n",
       "            background-color:  #63a8d3;\n",
       "            color:  #000000;\n",
       "        }#T_b38bc204_ca29_11eb_b079_eb82f075a8aarow1_col13,#T_b38bc204_ca29_11eb_b079_eb82f075a8aarow3_col3{\n",
       "            background-color:  #b5d4e9;\n",
       "            color:  #000000;\n",
       "        }#T_b38bc204_ca29_11eb_b079_eb82f075a8aarow1_col14{\n",
       "            background-color:  #5fa6d1;\n",
       "            color:  #000000;\n",
       "        }#T_b38bc204_ca29_11eb_b079_eb82f075a8aarow1_col15{\n",
       "            background-color:  #1f6eb3;\n",
       "            color:  #f1f1f1;\n",
       "        }#T_b38bc204_ca29_11eb_b079_eb82f075a8aarow1_col16{\n",
       "            background-color:  #afd1e7;\n",
       "            color:  #000000;\n",
       "        }#T_b38bc204_ca29_11eb_b079_eb82f075a8aarow2_col1{\n",
       "            background-color:  #7ab6d9;\n",
       "            color:  #000000;\n",
       "        }#T_b38bc204_ca29_11eb_b079_eb82f075a8aarow2_col7{\n",
       "            background-color:  #cfe1f2;\n",
       "            color:  #000000;\n",
       "        }#T_b38bc204_ca29_11eb_b079_eb82f075a8aarow2_col8,#T_b38bc204_ca29_11eb_b079_eb82f075a8aarow3_col12{\n",
       "            background-color:  #1764ab;\n",
       "            color:  #f1f1f1;\n",
       "        }#T_b38bc204_ca29_11eb_b079_eb82f075a8aarow2_col13{\n",
       "            background-color:  #eef5fc;\n",
       "            color:  #000000;\n",
       "        }#T_b38bc204_ca29_11eb_b079_eb82f075a8aarow3_col0{\n",
       "            background-color:  #97c6df;\n",
       "            color:  #000000;\n",
       "        }#T_b38bc204_ca29_11eb_b079_eb82f075a8aarow3_col2{\n",
       "            background-color:  #8fc2de;\n",
       "            color:  #000000;\n",
       "        }#T_b38bc204_ca29_11eb_b079_eb82f075a8aarow3_col4{\n",
       "            background-color:  #b9d6ea;\n",
       "            color:  #000000;\n",
       "        }#T_b38bc204_ca29_11eb_b079_eb82f075a8aarow3_col5{\n",
       "            background-color:  #083979;\n",
       "            color:  #f1f1f1;\n",
       "        }#T_b38bc204_ca29_11eb_b079_eb82f075a8aarow3_col16{\n",
       "            background-color:  #3080bd;\n",
       "            color:  #000000;\n",
       "        }</style><table id=\"T_b38bc204_ca29_11eb_b079_eb82f075a8aa\" ><thead>    <tr>        <th class=\"blank level0\" ></th>        <th class=\"col_heading level0 col0\" >tweet_mensaje</th>        <th class=\"col_heading level0 col1\" >n_emojis</th>        <th class=\"col_heading level0 col2\" >n_lower</th>        <th class=\"col_heading level0 col3\" >n_upper</th>        <th class=\"col_heading level0 col4\" >n_digit</th>        <th class=\"col_heading level0 col5\" >n_whitespaces</th>        <th class=\"col_heading level0 col6\" >n_words</th>        <th class=\"col_heading level0 col7\" >has_tags</th>        <th class=\"col_heading level0 col8\" >has_hashtag</th>        <th class=\"col_heading level0 col9\" >has_urls</th>        <th class=\"col_heading level0 col10\" >n_exclamation</th>        <th class=\"col_heading level0 col11\" >n_question</th>        <th class=\"col_heading level0 col12\" >n_hashtag</th>        <th class=\"col_heading level0 col13\" >n_tags</th>        <th class=\"col_heading level0 col14\" >n_urls</th>        <th class=\"col_heading level0 col15\" >count_personal_positive</th>        <th class=\"col_heading level0 col16\" >count_personal_negative</th>    </tr>    <tr>        <th class=\"index_name level0\" >cluster</th>        <th class=\"blank\" ></th>        <th class=\"blank\" ></th>        <th class=\"blank\" ></th>        <th class=\"blank\" ></th>        <th class=\"blank\" ></th>        <th class=\"blank\" ></th>        <th class=\"blank\" ></th>        <th class=\"blank\" ></th>        <th class=\"blank\" ></th>        <th class=\"blank\" ></th>        <th class=\"blank\" ></th>        <th class=\"blank\" ></th>        <th class=\"blank\" ></th>        <th class=\"blank\" ></th>        <th class=\"blank\" ></th>        <th class=\"blank\" ></th>        <th class=\"blank\" ></th>    </tr></thead><tbody>\n",
       "                <tr>\n",
       "                        <th id=\"T_b38bc204_ca29_11eb_b079_eb82f075a8aalevel0_row0\" class=\"row_heading level0 row0\" >0</th>\n",
       "                        <td id=\"T_b38bc204_ca29_11eb_b079_eb82f075a8aarow0_col0\" class=\"data row0 col0\" >137.123916</td>\n",
       "                        <td id=\"T_b38bc204_ca29_11eb_b079_eb82f075a8aarow0_col1\" class=\"data row0 col1\" >0.000049</td>\n",
       "                        <td id=\"T_b38bc204_ca29_11eb_b079_eb82f075a8aarow0_col2\" class=\"data row0 col2\" >95.623387</td>\n",
       "                        <td id=\"T_b38bc204_ca29_11eb_b079_eb82f075a8aarow0_col3\" class=\"data row0 col3\" >11.390622</td>\n",
       "                        <td id=\"T_b38bc204_ca29_11eb_b079_eb82f075a8aarow0_col4\" class=\"data row0 col4\" >1.762221</td>\n",
       "                        <td id=\"T_b38bc204_ca29_11eb_b079_eb82f075a8aarow0_col5\" class=\"data row0 col5\" >20.319202</td>\n",
       "                        <td id=\"T_b38bc204_ca29_11eb_b079_eb82f075a8aarow0_col6\" class=\"data row0 col6\" >20.882106</td>\n",
       "                        <td id=\"T_b38bc204_ca29_11eb_b079_eb82f075a8aarow0_col7\" class=\"data row0 col7\" >0.999484</td>\n",
       "                        <td id=\"T_b38bc204_ca29_11eb_b079_eb82f075a8aarow0_col8\" class=\"data row0 col8\" >0.000000</td>\n",
       "                        <td id=\"T_b38bc204_ca29_11eb_b079_eb82f075a8aarow0_col9\" class=\"data row0 col9\" >0.000000</td>\n",
       "                        <td id=\"T_b38bc204_ca29_11eb_b079_eb82f075a8aarow0_col10\" class=\"data row0 col10\" >0.000000</td>\n",
       "                        <td id=\"T_b38bc204_ca29_11eb_b079_eb82f075a8aarow0_col11\" class=\"data row0 col11\" >0.000000</td>\n",
       "                        <td id=\"T_b38bc204_ca29_11eb_b079_eb82f075a8aarow0_col12\" class=\"data row0 col12\" >0.000000</td>\n",
       "                        <td id=\"T_b38bc204_ca29_11eb_b079_eb82f075a8aarow0_col13\" class=\"data row0 col13\" >3.865418</td>\n",
       "                        <td id=\"T_b38bc204_ca29_11eb_b079_eb82f075a8aarow0_col14\" class=\"data row0 col14\" >0.000000</td>\n",
       "                        <td id=\"T_b38bc204_ca29_11eb_b079_eb82f075a8aarow0_col15\" class=\"data row0 col15\" >0.451817</td>\n",
       "                        <td id=\"T_b38bc204_ca29_11eb_b079_eb82f075a8aarow0_col16\" class=\"data row0 col16\" >0.522869</td>\n",
       "            </tr>\n",
       "            <tr>\n",
       "                        <th id=\"T_b38bc204_ca29_11eb_b079_eb82f075a8aalevel0_row1\" class=\"row_heading level0 row1\" >1</th>\n",
       "                        <td id=\"T_b38bc204_ca29_11eb_b079_eb82f075a8aarow1_col0\" class=\"data row1 col0\" >158.735067</td>\n",
       "                        <td id=\"T_b38bc204_ca29_11eb_b079_eb82f075a8aarow1_col1\" class=\"data row1 col1\" >0.000639</td>\n",
       "                        <td id=\"T_b38bc204_ca29_11eb_b079_eb82f075a8aarow1_col2\" class=\"data row1 col2\" >100.201186</td>\n",
       "                        <td id=\"T_b38bc204_ca29_11eb_b079_eb82f075a8aarow1_col3\" class=\"data row1 col3\" >18.828428</td>\n",
       "                        <td id=\"T_b38bc204_ca29_11eb_b079_eb82f075a8aarow1_col4\" class=\"data row1 col4\" >3.157928</td>\n",
       "                        <td id=\"T_b38bc204_ca29_11eb_b079_eb82f075a8aarow1_col5\" class=\"data row1 col5\" >22.904632</td>\n",
       "                        <td id=\"T_b38bc204_ca29_11eb_b079_eb82f075a8aarow1_col6\" class=\"data row1 col6\" >22.299886</td>\n",
       "                        <td id=\"T_b38bc204_ca29_11eb_b079_eb82f075a8aarow1_col7\" class=\"data row1 col7\" >0.712161</td>\n",
       "                        <td id=\"T_b38bc204_ca29_11eb_b079_eb82f075a8aarow1_col8\" class=\"data row1 col8\" >0.608350</td>\n",
       "                        <td id=\"T_b38bc204_ca29_11eb_b079_eb82f075a8aarow1_col9\" class=\"data row1 col9\" >0.525941</td>\n",
       "                        <td id=\"T_b38bc204_ca29_11eb_b079_eb82f075a8aarow1_col10\" class=\"data row1 col10\" >1.000000</td>\n",
       "                        <td id=\"T_b38bc204_ca29_11eb_b079_eb82f075a8aarow1_col11\" class=\"data row1 col11\" >1.000000</td>\n",
       "                        <td id=\"T_b38bc204_ca29_11eb_b079_eb82f075a8aarow1_col12\" class=\"data row1 col12\" >1.571024</td>\n",
       "                        <td id=\"T_b38bc204_ca29_11eb_b079_eb82f075a8aarow1_col13\" class=\"data row1 col13\" >1.970888</td>\n",
       "                        <td id=\"T_b38bc204_ca29_11eb_b079_eb82f075a8aarow1_col14\" class=\"data row1 col14\" >0.625690</td>\n",
       "                        <td id=\"T_b38bc204_ca29_11eb_b079_eb82f075a8aarow1_col15\" class=\"data row1 col15\" >0.479352</td>\n",
       "                        <td id=\"T_b38bc204_ca29_11eb_b079_eb82f075a8aarow1_col16\" class=\"data row1 col16\" >0.336482</td>\n",
       "            </tr>\n",
       "            <tr>\n",
       "                        <th id=\"T_b38bc204_ca29_11eb_b079_eb82f075a8aalevel0_row2\" class=\"row_heading level0 row2\" >2</th>\n",
       "                        <td id=\"T_b38bc204_ca29_11eb_b079_eb82f075a8aarow2_col0\" class=\"data row2 col0\" >180.649196</td>\n",
       "                        <td id=\"T_b38bc204_ca29_11eb_b079_eb82f075a8aarow2_col1\" class=\"data row2 col1\" >0.000594</td>\n",
       "                        <td id=\"T_b38bc204_ca29_11eb_b079_eb82f075a8aarow2_col2\" class=\"data row2 col2\" >116.639401</td>\n",
       "                        <td id=\"T_b38bc204_ca29_11eb_b079_eb82f075a8aarow2_col3\" class=\"data row2 col3\" >19.513633</td>\n",
       "                        <td id=\"T_b38bc204_ca29_11eb_b079_eb82f075a8aarow2_col4\" class=\"data row2 col4\" >4.529682</td>\n",
       "                        <td id=\"T_b38bc204_ca29_11eb_b079_eb82f075a8aarow2_col5\" class=\"data row2 col5\" >24.543336</td>\n",
       "                        <td id=\"T_b38bc204_ca29_11eb_b079_eb82f075a8aarow2_col6\" class=\"data row2 col6\" >23.996947</td>\n",
       "                        <td id=\"T_b38bc204_ca29_11eb_b079_eb82f075a8aarow2_col7\" class=\"data row2 col7\" >0.554107</td>\n",
       "                        <td id=\"T_b38bc204_ca29_11eb_b079_eb82f075a8aarow2_col8\" class=\"data row2 col8\" >0.799008</td>\n",
       "                        <td id=\"T_b38bc204_ca29_11eb_b079_eb82f075a8aarow2_col9\" class=\"data row2 col9\" >1.000000</td>\n",
       "                        <td id=\"T_b38bc204_ca29_11eb_b079_eb82f075a8aarow2_col10\" class=\"data row2 col10\" >0.000000</td>\n",
       "                        <td id=\"T_b38bc204_ca29_11eb_b079_eb82f075a8aarow2_col11\" class=\"data row2 col11\" >0.000000</td>\n",
       "                        <td id=\"T_b38bc204_ca29_11eb_b079_eb82f075a8aarow2_col12\" class=\"data row2 col12\" >3.097422</td>\n",
       "                        <td id=\"T_b38bc204_ca29_11eb_b079_eb82f075a8aarow2_col13\" class=\"data row2 col13\" >1.281919</td>\n",
       "                        <td id=\"T_b38bc204_ca29_11eb_b079_eb82f075a8aarow2_col14\" class=\"data row2 col14\" >1.168681</td>\n",
       "                        <td id=\"T_b38bc204_ca29_11eb_b079_eb82f075a8aarow2_col15\" class=\"data row2 col15\" >0.376458</td>\n",
       "                        <td id=\"T_b38bc204_ca29_11eb_b079_eb82f075a8aarow2_col16\" class=\"data row2 col16\" >0.247106</td>\n",
       "            </tr>\n",
       "            <tr>\n",
       "                        <th id=\"T_b38bc204_ca29_11eb_b079_eb82f075a8aalevel0_row3\" class=\"row_heading level0 row3\" >3</th>\n",
       "                        <td id=\"T_b38bc204_ca29_11eb_b079_eb82f075a8aarow3_col0\" class=\"data row3 col0\" >154.128918</td>\n",
       "                        <td id=\"T_b38bc204_ca29_11eb_b079_eb82f075a8aarow3_col1\" class=\"data row3 col1\" >0.001221</td>\n",
       "                        <td id=\"T_b38bc204_ca29_11eb_b079_eb82f075a8aarow3_col2\" class=\"data row3 col2\" >104.270349</td>\n",
       "                        <td id=\"T_b38bc204_ca29_11eb_b079_eb82f075a8aarow3_col3\" class=\"data row3 col3\" >13.845097</td>\n",
       "                        <td id=\"T_b38bc204_ca29_11eb_b079_eb82f075a8aarow3_col4\" class=\"data row3 col4\" >2.571435</td>\n",
       "                        <td id=\"T_b38bc204_ca29_11eb_b079_eb82f075a8aarow3_col5\" class=\"data row3 col5\" >24.386450</td>\n",
       "                        <td id=\"T_b38bc204_ca29_11eb_b079_eb82f075a8aarow3_col6\" class=\"data row3 col6\" >23.991237</td>\n",
       "                        <td id=\"T_b38bc204_ca29_11eb_b079_eb82f075a8aarow3_col7\" class=\"data row3 col7\" >0.438898</td>\n",
       "                        <td id=\"T_b38bc204_ca29_11eb_b079_eb82f075a8aarow3_col8\" class=\"data row3 col8\" >1.000000</td>\n",
       "                        <td id=\"T_b38bc204_ca29_11eb_b079_eb82f075a8aarow3_col9\" class=\"data row3 col9\" >0.000000</td>\n",
       "                        <td id=\"T_b38bc204_ca29_11eb_b079_eb82f075a8aarow3_col10\" class=\"data row3 col10\" >0.000000</td>\n",
       "                        <td id=\"T_b38bc204_ca29_11eb_b079_eb82f075a8aarow3_col11\" class=\"data row3 col11\" >0.000000</td>\n",
       "                        <td id=\"T_b38bc204_ca29_11eb_b079_eb82f075a8aarow3_col12\" class=\"data row3 col12\" >2.468719</td>\n",
       "                        <td id=\"T_b38bc204_ca29_11eb_b079_eb82f075a8aarow3_col13\" class=\"data row3 col13\" >1.144919</td>\n",
       "                        <td id=\"T_b38bc204_ca29_11eb_b079_eb82f075a8aarow3_col14\" class=\"data row3 col14\" >0.000000</td>\n",
       "                        <td id=\"T_b38bc204_ca29_11eb_b079_eb82f075a8aarow3_col15\" class=\"data row3 col15\" >0.511793</td>\n",
       "                        <td id=\"T_b38bc204_ca29_11eb_b079_eb82f075a8aarow3_col16\" class=\"data row3 col16\" >0.438200</td>\n",
       "            </tr>\n",
       "    </tbody></table>"
      ],
      "text/plain": [
       "<pandas.io.formats.style.Styler at 0x7f06a997ed00>"
      ]
     },
     "execution_count": 45,
     "metadata": {},
     "output_type": "execute_result"
    }
   ],
   "source": [
    "X.groupby(\"cluster\").mean().style.background_gradient(cmap='Blues')"
   ]
  },
  {
   "cell_type": "code",
   "execution_count": 46,
   "metadata": {
    "ExecuteTime": {
     "end_time": "2021-06-10T20:23:21.981001Z",
     "start_time": "2021-06-10T20:23:21.978606Z"
    }
   },
   "outputs": [],
   "source": [
    "dump(gmm, o pen('los_merequetenguesC.pk','wb'))"
   ]
  },
  {
   "cell_type": "code",
   "execution_count": 47,
   "metadata": {
    "ExecuteTime": {
     "end_time": "2021-06-10T20:23:21.985858Z",
     "start_time": "2021-06-10T20:23:21.982066Z"
    }
   },
   "outputs": [],
   "source": [
    "cluster_model=load(open('../hello_world/data/models/los_merequetenguesC.pk','rb'))"
   ]
  },
  {
   "cell_type": "code",
   "execution_count": 49,
   "metadata": {
    "ExecuteTime": {
     "end_time": "2021-06-10T20:23:59.571334Z",
     "start_time": "2021-06-10T20:23:59.373468Z"
    }
   },
   "outputs": [],
   "source": [
    "some = cluster_model.predict(Xs)"
   ]
  },
  {
   "cell_type": "code",
   "execution_count": 51,
   "metadata": {
    "ExecuteTime": {
     "end_time": "2021-06-10T20:24:08.938093Z",
     "start_time": "2021-06-10T20:24:08.934384Z"
    }
   },
   "outputs": [
    {
     "data": {
      "text/plain": [
       "1"
      ]
     },
     "execution_count": 51,
     "metadata": {},
     "output_type": "execute_result"
    }
   ],
   "source": [
    "some[0]"
   ]
  },
  {
   "cell_type": "code",
   "execution_count": null,
   "metadata": {},
   "outputs": [],
   "source": []
  }
 ],
 "metadata": {
  "kernelspec": {
   "display_name": "Python 3",
   "language": "python",
   "name": "python3"
  },
  "language_info": {
   "codemirror_mode": {
    "name": "ipython",
    "version": 3
   },
   "file_extension": ".py",
   "mimetype": "text/x-python",
   "name": "python",
   "nbconvert_exporter": "python",
   "pygments_lexer": "ipython3",
   "version": "3.8.5"
  }
 },
 "nbformat": 4,
 "nbformat_minor": 4
}
